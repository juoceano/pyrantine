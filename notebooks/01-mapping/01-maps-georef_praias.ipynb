{
 "cells": [
  {
   "cell_type": "markdown",
   "metadata": {},
   "source": [
    "Dados das praias foram obtidos em:\n",
    "\n",
    "https://leismunicipais.com.br/a/sc/f/florianopolis/lei-ordinaria/2001/585/5847/lei-ordinaria-n-5847-2001-cria-a-denominacao-oficial-das-praias-no-municipio-de-florianopolis-e-da-outras-providencias?q=5847"
   ]
  },
  {
   "cell_type": "code",
   "execution_count": null,
   "metadata": {},
   "outputs": [],
   "source": [
    "import geopandas\n",
    "\n",
    "gdf = geopandas.read_file(\"praias-pontos-prefeitura\")"
   ]
  },
  {
   "cell_type": "code",
   "execution_count": null,
   "metadata": {
    "scrolled": false
   },
   "outputs": [],
   "source": [
    "import folium\n",
    "from folium.plugins import Draw, Fullscreen\n",
    "\n",
    "m = folium.Map()\n",
    "\n",
    "Draw(export=True).add_to(m)\n",
    "Fullscreen().add_to(m)\n",
    "\n",
    "folium.GeoJson(\n",
    "    gdf, tooltip=folium.GeoJsonTooltip(fields=[\"Nome\"], localize=True,)\n",
    ").add_to(m)\n",
    "\n",
    "\n",
    "m.fit_bounds(m.get_bounds())\n",
    "m"
   ]
  }
 ],
 "metadata": {
  "_draft": {
   "nbviewer_url": "https://gist.github.com/5be67719d18fdace15f18131cedfd63e"
  },
  "gist": {
   "data": {
    "description": "georef_praias.ipynb",
    "public": true
   },
   "id": "5be67719d18fdace15f18131cedfd63e"
  },
  "kernelspec": {
   "display_name": "Python 3",
   "language": "python",
   "name": "python3"
  },
  "language_info": {
   "codemirror_mode": {
    "name": "ipython",
    "version": 3
   },
   "file_extension": ".py",
   "mimetype": "text/x-python",
   "name": "python",
   "nbconvert_exporter": "python",
   "pygments_lexer": "ipython3",
   "version": "3.9.4"
  }
 },
 "nbformat": 4,
 "nbformat_minor": 2
}
