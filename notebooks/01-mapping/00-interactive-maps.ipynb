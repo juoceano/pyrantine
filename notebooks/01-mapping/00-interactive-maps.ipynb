{
 "cells": [
  {
   "cell_type": "markdown",
   "metadata": {},
   "source": [
    "Documentação do folium: https://python-visualization.github.io/folium/\n",
    "Galeria de exemplos: https://nbviewer.jupyter.org/github/python-visualization/folium/tree/master/examples/"
   ]
  },
  {
   "cell_type": "code",
   "execution_count": null,
   "metadata": {},
   "outputs": [],
   "source": [
    "import folium\n",
    "from folium.plugins import MeasureControl\n",
    "\n",
    "\n",
    "# https://leaflet-extras.github.io/leaflet-providers/preview/\n",
    "img = \"https://server.arcgisonline.com/ArcGIS/rest/services/World_Imagery/MapServer/tile/{z}/{y}/{x}\"\n",
    "attr = (\"Tiles &copy; Esri &mdash; Sources: GEBCO, NOAA, CHS, OSU, UNH, CSUMB, National Geographic, DeLorme, NAVTEQ, and Esri\")\n",
    "\n",
    "m = folium.Map(\n",
    "    tiles=img,\n",
    "    attr=attr,\n",
    "    location=[-27.612222, -48.485278]\n",
    ")\n",
    "\n",
    "folium.Marker(\n",
    "    location=[-27.612222, -48.485278],\n",
    "    popup=\"<b>Centro de Floripa</b>\",\n",
    "    tooltip=\"Outra forma texto.\",\n",
    "    icon=folium.Icon(color=\"red\", icon=\"info-sign\")\n",
    ").add_to(m)\n",
    "\n",
    "\n",
    "folium.Marker(\n",
    "    location=[-27.274444, -48.42111],\n",
    "    popup=\"Boia SC01\",\n",
    "    tooltip=\"SiMCOSTA\",\n",
    ").add_to(m)\n",
    "\n",
    "\n",
    "MeasureControl().add_to(m)\n",
    "m.fit_bounds(m.get_bounds())\n",
    "\n",
    "m"
   ]
  },
  {
   "cell_type": "code",
   "execution_count": null,
   "metadata": {},
   "outputs": [],
   "source": [
    "from folium.plugins import Draw\n",
    "\n",
    "\n",
    "m = folium.Map(\n",
    "    location=[-27.612222, -48.485278]\n",
    ")\n",
    "\n",
    "\n",
    "Draw(export=True).add_to(m)\n",
    "\n",
    "m"
   ]
  },
  {
   "cell_type": "code",
   "execution_count": null,
   "metadata": {},
   "outputs": [],
   "source": [
    "import geopandas\n",
    "\n",
    "\n",
    "gdf = geopandas.read_file(\"naufragados.geojson\")\n",
    "gdf"
   ]
  },
  {
   "cell_type": "code",
   "execution_count": null,
   "metadata": {},
   "outputs": [],
   "source": [
    "gdf[\"geometry\"].squeeze()"
   ]
  },
  {
   "cell_type": "code",
   "execution_count": null,
   "metadata": {},
   "outputs": [],
   "source": [
    "m = folium.Map()\n",
    "\n",
    "folium.GeoJson(gdf).add_to(m)\n",
    "\n",
    "m.fit_bounds(m.get_bounds())\n",
    "\n",
    "m"
   ]
  }
 ],
 "metadata": {
  "kernelspec": {
   "display_name": "Python 3",
   "language": "python",
   "name": "python3"
  },
  "language_info": {
   "codemirror_mode": {
    "name": "ipython",
    "version": 3
   },
   "file_extension": ".py",
   "mimetype": "text/x-python",
   "name": "python",
   "nbconvert_exporter": "python",
   "pygments_lexer": "ipython3",
   "version": "3.9.4"
  }
 },
 "nbformat": 4,
 "nbformat_minor": 4
}
