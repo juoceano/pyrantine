{
 "cells": [
  {
   "cell_type": "markdown",
   "metadata": {},
   "source": [
    "Documentação do folium: https://python-visualization.github.io/folium/\n",
    "Galeria de exemplos: https://nbviewer.jupyter.org/github/python-visualization/folium/tree/master/examples/"
   ]
  },
  {
   "cell_type": "code",
   "execution_count": 1,
   "metadata": {},
   "outputs": [
    {
     "data": {
      "text/html": [
       "<div style=\"width:100%;\"><div style=\"position:relative;width:100%;height:0;padding-bottom:60%;\"><iframe src=\"about:blank\" style=\"position:absolute;width:100%;height:100%;left:0;top:0;border:none !important;\" data-html=PCFET0NUWVBFIGh0bWw+CjxoZWFkPiAgICAKICAgIDxtZXRhIGh0dHAtZXF1aXY9ImNvbnRlbnQtdHlwZSIgY29udGVudD0idGV4dC9odG1sOyBjaGFyc2V0PVVURi04IiAvPgogICAgCiAgICAgICAgPHNjcmlwdD4KICAgICAgICAgICAgTF9OT19UT1VDSCA9IGZhbHNlOwogICAgICAgICAgICBMX0RJU0FCTEVfM0QgPSBmYWxzZTsKICAgICAgICA8L3NjcmlwdD4KICAgIAogICAgPHNjcmlwdCBzcmM9Imh0dHBzOi8vY2RuLmpzZGVsaXZyLm5ldC9ucG0vbGVhZmxldEAxLjUuMS9kaXN0L2xlYWZsZXQuanMiPjwvc2NyaXB0PgogICAgPHNjcmlwdCBzcmM9Imh0dHBzOi8vY29kZS5qcXVlcnkuY29tL2pxdWVyeS0xLjEyLjQubWluLmpzIj48L3NjcmlwdD4KICAgIDxzY3JpcHQgc3JjPSJodHRwczovL21heGNkbi5ib290c3RyYXBjZG4uY29tL2Jvb3RzdHJhcC8zLjIuMC9qcy9ib290c3RyYXAubWluLmpzIj48L3NjcmlwdD4KICAgIDxzY3JpcHQgc3JjPSJodHRwczovL2NkbmpzLmNsb3VkZmxhcmUuY29tL2FqYXgvbGlicy9MZWFmbGV0LmF3ZXNvbWUtbWFya2Vycy8yLjAuMi9sZWFmbGV0LmF3ZXNvbWUtbWFya2Vycy5qcyI+PC9zY3JpcHQ+CiAgICA8bGluayByZWw9InN0eWxlc2hlZXQiIGhyZWY9Imh0dHBzOi8vY2RuLmpzZGVsaXZyLm5ldC9ucG0vbGVhZmxldEAxLjUuMS9kaXN0L2xlYWZsZXQuY3NzIi8+CiAgICA8bGluayByZWw9InN0eWxlc2hlZXQiIGhyZWY9Imh0dHBzOi8vbWF4Y2RuLmJvb3RzdHJhcGNkbi5jb20vYm9vdHN0cmFwLzMuMi4wL2Nzcy9ib290c3RyYXAubWluLmNzcyIvPgogICAgPGxpbmsgcmVsPSJzdHlsZXNoZWV0IiBocmVmPSJodHRwczovL21heGNkbi5ib290c3RyYXBjZG4uY29tL2Jvb3RzdHJhcC8zLjIuMC9jc3MvYm9vdHN0cmFwLXRoZW1lLm1pbi5jc3MiLz4KICAgIDxsaW5rIHJlbD0ic3R5bGVzaGVldCIgaHJlZj0iaHR0cHM6Ly9tYXhjZG4uYm9vdHN0cmFwY2RuLmNvbS9mb250LWF3ZXNvbWUvNC42LjMvY3NzL2ZvbnQtYXdlc29tZS5taW4uY3NzIi8+CiAgICA8bGluayByZWw9InN0eWxlc2hlZXQiIGhyZWY9Imh0dHBzOi8vY2RuanMuY2xvdWRmbGFyZS5jb20vYWpheC9saWJzL0xlYWZsZXQuYXdlc29tZS1tYXJrZXJzLzIuMC4yL2xlYWZsZXQuYXdlc29tZS1tYXJrZXJzLmNzcyIvPgogICAgPGxpbmsgcmVsPSJzdHlsZXNoZWV0IiBocmVmPSJodHRwczovL3Jhd2Nkbi5naXRoYWNrLmNvbS9weXRob24tdmlzdWFsaXphdGlvbi9mb2xpdW0vbWFzdGVyL2ZvbGl1bS90ZW1wbGF0ZXMvbGVhZmxldC5hd2Vzb21lLnJvdGF0ZS5jc3MiLz4KICAgIDxzdHlsZT5odG1sLCBib2R5IHt3aWR0aDogMTAwJTtoZWlnaHQ6IDEwMCU7bWFyZ2luOiAwO3BhZGRpbmc6IDA7fTwvc3R5bGU+CiAgICA8c3R5bGU+I21hcCB7cG9zaXRpb246YWJzb2x1dGU7dG9wOjA7Ym90dG9tOjA7cmlnaHQ6MDtsZWZ0OjA7fTwvc3R5bGU+CiAgICAKICAgICAgICAgICAgPG1ldGEgbmFtZT0idmlld3BvcnQiIGNvbnRlbnQ9IndpZHRoPWRldmljZS13aWR0aCwKICAgICAgICAgICAgICAgIGluaXRpYWwtc2NhbGU9MS4wLCBtYXhpbXVtLXNjYWxlPTEuMCwgdXNlci1zY2FsYWJsZT1ubyIgLz4KICAgICAgICAgICAgPHN0eWxlPgogICAgICAgICAgICAgICAgI21hcF82ZGQ4M2ZhYzBiMjc0NTI4YmNmNDgxMTFjYzhkZmM5NyB7CiAgICAgICAgICAgICAgICAgICAgcG9zaXRpb246IHJlbGF0aXZlOwogICAgICAgICAgICAgICAgICAgIHdpZHRoOiAxMDAuMCU7CiAgICAgICAgICAgICAgICAgICAgaGVpZ2h0OiAxMDAuMCU7CiAgICAgICAgICAgICAgICAgICAgbGVmdDogMC4wJTsKICAgICAgICAgICAgICAgICAgICB0b3A6IDAuMCU7CiAgICAgICAgICAgICAgICB9CiAgICAgICAgICAgIDwvc3R5bGU+CiAgICAgICAgCiAgICA8c2NyaXB0IHNyYz0iaHR0cHM6Ly9yYXdjZG4uZ2l0aGFjay5jb20vbGphZ2lzL2xlYWZsZXQtbWVhc3VyZS8yLjEuNy9kaXN0L2xlYWZsZXQtbWVhc3VyZS5qcyI+PC9zY3JpcHQ+CiAgICA8bGluayByZWw9InN0eWxlc2hlZXQiIGhyZWY9Imh0dHBzOi8vcmF3Y2RuLmdpdGhhY2suY29tL2xqYWdpcy9sZWFmbGV0LW1lYXN1cmUvMi4xLjcvZGlzdC9sZWFmbGV0LW1lYXN1cmUuY3NzIi8+CjwvaGVhZD4KPGJvZHk+ICAgIAogICAgCiAgICAgICAgICAgIDxkaXYgY2xhc3M9ImZvbGl1bS1tYXAiIGlkPSJtYXBfNmRkODNmYWMwYjI3NDUyOGJjZjQ4MTExY2M4ZGZjOTciID48L2Rpdj4KICAgICAgICAKPC9ib2R5Pgo8c2NyaXB0PiAgICAKICAgIAogICAgICAgICAgICB2YXIgbWFwXzZkZDgzZmFjMGIyNzQ1MjhiY2Y0ODExMWNjOGRmYzk3ID0gTC5tYXAoCiAgICAgICAgICAgICAgICAibWFwXzZkZDgzZmFjMGIyNzQ1MjhiY2Y0ODExMWNjOGRmYzk3IiwKICAgICAgICAgICAgICAgIHsKICAgICAgICAgICAgICAgICAgICBjZW50ZXI6IFstMjcuNjEyMjIyLCAtNDguNDg1Mjc4XSwKICAgICAgICAgICAgICAgICAgICBjcnM6IEwuQ1JTLkVQU0czODU3LAogICAgICAgICAgICAgICAgICAgIHpvb206IDEwLAogICAgICAgICAgICAgICAgICAgIHpvb21Db250cm9sOiB0cnVlLAogICAgICAgICAgICAgICAgICAgIHByZWZlckNhbnZhczogZmFsc2UsCiAgICAgICAgICAgICAgICB9CiAgICAgICAgICAgICk7CgogICAgICAgICAgICAKCiAgICAgICAgCiAgICAKICAgICAgICAgICAgdmFyIHRpbGVfbGF5ZXJfYjY5OWE3YzJlMTdkNDdhMGFmYzgxNGQxNzBkOWIxYmYgPSBMLnRpbGVMYXllcigKICAgICAgICAgICAgICAgICJodHRwczovL3NlcnZlci5hcmNnaXNvbmxpbmUuY29tL0FyY0dJUy9yZXN0L3NlcnZpY2VzL1dvcmxkX0ltYWdlcnkvTWFwU2VydmVyL3RpbGUve3p9L3t5fS97eH0iLAogICAgICAgICAgICAgICAgeyJhdHRyaWJ1dGlvbiI6ICJUaWxlcyBcdTAwMjZjb3B5OyBFc3JpIFx1MDAyNm1kYXNoOyBTb3VyY2VzOiBHRUJDTywgTk9BQSwgQ0hTLCBPU1UsIFVOSCwgQ1NVTUIsIE5hdGlvbmFsIEdlb2dyYXBoaWMsIERlTG9ybWUsIE5BVlRFUSwgYW5kIEVzcmkiLCAiZGV0ZWN0UmV0aW5hIjogZmFsc2UsICJtYXhOYXRpdmVab29tIjogMTgsICJtYXhab29tIjogMTgsICJtaW5ab29tIjogMCwgIm5vV3JhcCI6IGZhbHNlLCAib3BhY2l0eSI6IDEsICJzdWJkb21haW5zIjogImFiYyIsICJ0bXMiOiBmYWxzZX0KICAgICAgICAgICAgKS5hZGRUbyhtYXBfNmRkODNmYWMwYjI3NDUyOGJjZjQ4MTExY2M4ZGZjOTcpOwogICAgICAgIAogICAgCiAgICAgICAgICAgIHZhciBtYXJrZXJfZDg4MDFjMjA0MDJjNDdkZDliYzM5ODAyNmFjOTg4YmIgPSBMLm1hcmtlcigKICAgICAgICAgICAgICAgIFstMjcuNjEyMjIyLCAtNDguNDg1Mjc4XSwKICAgICAgICAgICAgICAgIHt9CiAgICAgICAgICAgICkuYWRkVG8obWFwXzZkZDgzZmFjMGIyNzQ1MjhiY2Y0ODExMWNjOGRmYzk3KTsKICAgICAgICAKICAgIAogICAgICAgICAgICB2YXIgaWNvbl8wOWQ5NGNhNTMwM2Y0NGRkYjhjMTA2ZDMxZWM5Nzc4MyA9IEwuQXdlc29tZU1hcmtlcnMuaWNvbigKICAgICAgICAgICAgICAgIHsiZXh0cmFDbGFzc2VzIjogImZhLXJvdGF0ZS0wIiwgImljb24iOiAiaW5mby1zaWduIiwgImljb25Db2xvciI6ICJ3aGl0ZSIsICJtYXJrZXJDb2xvciI6ICJyZWQiLCAicHJlZml4IjogImdseXBoaWNvbiJ9CiAgICAgICAgICAgICk7CiAgICAgICAgICAgIG1hcmtlcl9kODgwMWMyMDQwMmM0N2RkOWJjMzk4MDI2YWM5ODhiYi5zZXRJY29uKGljb25fMDlkOTRjYTUzMDNmNDRkZGI4YzEwNmQzMWVjOTc3ODMpOwogICAgICAgIAogICAgCiAgICAgICAgdmFyIHBvcHVwXzFlMmU4OTQ0Y2FjYTRlNWNiMzEzYWQzMTgyOGYyYzdkID0gTC5wb3B1cCh7Im1heFdpZHRoIjogIjEwMCUifSk7CgogICAgICAgIAogICAgICAgICAgICB2YXIgaHRtbF80M2Q1MmVhYmVmNTQ0ODZlOTYxN2M0OTVkM2RhZDZjNyA9ICQoYDxkaXYgaWQ9Imh0bWxfNDNkNTJlYWJlZjU0NDg2ZTk2MTdjNDk1ZDNkYWQ2YzciIHN0eWxlPSJ3aWR0aDogMTAwLjAlOyBoZWlnaHQ6IDEwMC4wJTsiPjxiPkNlbnRybyBkZSBGbG9yaXBhPC9iPjwvZGl2PmApWzBdOwogICAgICAgICAgICBwb3B1cF8xZTJlODk0NGNhY2E0ZTVjYjMxM2FkMzE4MjhmMmM3ZC5zZXRDb250ZW50KGh0bWxfNDNkNTJlYWJlZjU0NDg2ZTk2MTdjNDk1ZDNkYWQ2YzcpOwogICAgICAgIAoKICAgICAgICBtYXJrZXJfZDg4MDFjMjA0MDJjNDdkZDliYzM5ODAyNmFjOTg4YmIuYmluZFBvcHVwKHBvcHVwXzFlMmU4OTQ0Y2FjYTRlNWNiMzEzYWQzMTgyOGYyYzdkKQogICAgICAgIDsKCiAgICAgICAgCiAgICAKICAgIAogICAgICAgICAgICBtYXJrZXJfZDg4MDFjMjA0MDJjNDdkZDliYzM5ODAyNmFjOTg4YmIuYmluZFRvb2x0aXAoCiAgICAgICAgICAgICAgICBgPGRpdj4KICAgICAgICAgICAgICAgICAgICAgT3V0cmEgZm9ybWEgdGV4dG8uCiAgICAgICAgICAgICAgICAgPC9kaXY+YCwKICAgICAgICAgICAgICAgIHsic3RpY2t5IjogdHJ1ZX0KICAgICAgICAgICAgKTsKICAgICAgICAKICAgIAogICAgICAgICAgICB2YXIgbWFya2VyX2QwOWE4YWIwNGQ0YjQxZmViNGRjODE1MTQ5Y2EwMDJhID0gTC5tYXJrZXIoCiAgICAgICAgICAgICAgICBbLTI3LjI3NDQ0NCwgLTQ4LjQyMTExXSwKICAgICAgICAgICAgICAgIHt9CiAgICAgICAgICAgICkuYWRkVG8obWFwXzZkZDgzZmFjMGIyNzQ1MjhiY2Y0ODExMWNjOGRmYzk3KTsKICAgICAgICAKICAgIAogICAgICAgIHZhciBwb3B1cF9jZWY5NDNjNjNiM2M0ODU4OTc3MzhiMWQzNGZlNTMwNyA9IEwucG9wdXAoeyJtYXhXaWR0aCI6ICIxMDAlIn0pOwoKICAgICAgICAKICAgICAgICAgICAgdmFyIGh0bWxfMmYxNzNiN2JkNzYxNDljNzg2ZDcyMTA0ODM4NjlkNjkgPSAkKGA8ZGl2IGlkPSJodG1sXzJmMTczYjdiZDc2MTQ5Yzc4NmQ3MjEwNDgzODY5ZDY5IiBzdHlsZT0id2lkdGg6IDEwMC4wJTsgaGVpZ2h0OiAxMDAuMCU7Ij5Cb2lhIFNDMDE8L2Rpdj5gKVswXTsKICAgICAgICAgICAgcG9wdXBfY2VmOTQzYzYzYjNjNDg1ODk3NzM4YjFkMzRmZTUzMDcuc2V0Q29udGVudChodG1sXzJmMTczYjdiZDc2MTQ5Yzc4NmQ3MjEwNDgzODY5ZDY5KTsKICAgICAgICAKCiAgICAgICAgbWFya2VyX2QwOWE4YWIwNGQ0YjQxZmViNGRjODE1MTQ5Y2EwMDJhLmJpbmRQb3B1cChwb3B1cF9jZWY5NDNjNjNiM2M0ODU4OTc3MzhiMWQzNGZlNTMwNykKICAgICAgICA7CgogICAgICAgIAogICAgCiAgICAKICAgICAgICAgICAgbWFya2VyX2QwOWE4YWIwNGQ0YjQxZmViNGRjODE1MTQ5Y2EwMDJhLmJpbmRUb29sdGlwKAogICAgICAgICAgICAgICAgYDxkaXY+CiAgICAgICAgICAgICAgICAgICAgIFNpTUNPU1RBCiAgICAgICAgICAgICAgICAgPC9kaXY+YCwKICAgICAgICAgICAgICAgIHsic3RpY2t5IjogdHJ1ZX0KICAgICAgICAgICAgKTsKICAgICAgICAKICAgIAogICAgICAgICAgICB2YXIgbWVhc3VyZV9jb250cm9sXzJiYTQyMmRlYjNkMjQ4MjVhNTc1ODIyOGUwNjNiNmViID0gbmV3IEwuQ29udHJvbC5NZWFzdXJlKAogICAgICAgICAgICAgICAgeyJwb3NpdGlvbiI6ICJ0b3ByaWdodCIsICJwcmltYXJ5QXJlYVVuaXQiOiAic3FtZXRlcnMiLCAicHJpbWFyeUxlbmd0aFVuaXQiOiAibWV0ZXJzIiwgInNlY29uZGFyeUFyZWFVbml0IjogImFjcmVzIiwgInNlY29uZGFyeUxlbmd0aFVuaXQiOiAibWlsZXMifSk7CiAgICAgICAgICAgIG1hcF82ZGQ4M2ZhYzBiMjc0NTI4YmNmNDgxMTFjYzhkZmM5Ny5hZGRDb250cm9sKG1lYXN1cmVfY29udHJvbF8yYmE0MjJkZWIzZDI0ODI1YTU3NTgyMjhlMDYzYjZlYik7CgogICAgICAgIAogICAgCiAgICAgICAgICAgIG1hcF82ZGQ4M2ZhYzBiMjc0NTI4YmNmNDgxMTFjYzhkZmM5Ny5maXRCb3VuZHMoCiAgICAgICAgICAgICAgICBbWy0yNy42MTIyMjIsIC00OC40ODUyNzhdLCBbLTI3LjI3NDQ0NCwgLTQ4LjQyMTExXV0sCiAgICAgICAgICAgICAgICB7fQogICAgICAgICAgICApOwogICAgICAgIAo8L3NjcmlwdD4= onload=\"this.contentDocument.open();this.contentDocument.write(atob(this.getAttribute('data-html')));this.contentDocument.close();\" allowfullscreen webkitallowfullscreen mozallowfullscreen></iframe></div></div>"
      ],
      "text/plain": [
       "<folium.folium.Map at 0x7f25340e1bb0>"
      ]
     },
     "execution_count": 1,
     "metadata": {},
     "output_type": "execute_result"
    }
   ],
   "source": [
    "import folium\n",
    "from folium.plugins import MeasureControl\n",
    "\n",
    "\n",
    "# https://leaflet-extras.github.io/leaflet-providers/preview/\n",
    "img = \"https://server.arcgisonline.com/ArcGIS/rest/services/World_Imagery/MapServer/tile/{z}/{y}/{x}\"\n",
    "attr = (\"Tiles &copy; Esri &mdash; Sources: GEBCO, NOAA, CHS, OSU, UNH, CSUMB, National Geographic, DeLorme, NAVTEQ, and Esri\")\n",
    "\n",
    "m = folium.Map(\n",
    "    tiles=img,\n",
    "    attr=attr,\n",
    "    location=[-27.612222, -48.485278]\n",
    ")\n",
    "\n",
    "folium.Marker(\n",
    "    location=[-27.612222, -48.485278],\n",
    "    popup=\"<b>Centro de Floripa</b>\",\n",
    "    tooltip=\"Outra forma texto.\",\n",
    "    icon=folium.Icon(color=\"red\", icon=\"info-sign\")\n",
    ").add_to(m)\n",
    "\n",
    "\n",
    "folium.Marker(\n",
    "    location=[-27.274444, -48.42111],\n",
    "    popup=\"Boia SC01\",\n",
    "    tooltip=\"SiMCOSTA\",\n",
    ").add_to(m)\n",
    "\n",
    "\n",
    "MeasureControl().add_to(m)\n",
    "m.fit_bounds(m.get_bounds())\n",
    "\n",
    "m"
   ]
  },
  {
   "cell_type": "code",
   "execution_count": 2,
   "metadata": {},
   "outputs": [
    {
     "data": {
      "text/html": [
       "<div style=\"width:100%;\"><div style=\"position:relative;width:100%;height:0;padding-bottom:60%;\"><iframe src=\"about:blank\" style=\"position:absolute;width:100%;height:100%;left:0;top:0;border:none !important;\" data-html=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 onload=\"this.contentDocument.open();this.contentDocument.write(atob(this.getAttribute('data-html')));this.contentDocument.close();\" allowfullscreen webkitallowfullscreen mozallowfullscreen></iframe></div></div>"
      ],
      "text/plain": [
       "<folium.folium.Map at 0x7f2534099100>"
      ]
     },
     "execution_count": 2,
     "metadata": {},
     "output_type": "execute_result"
    }
   ],
   "source": [
    "from folium.plugins import Draw\n",
    "\n",
    "\n",
    "m = folium.Map(\n",
    "    location=[-27.612222, -48.485278]\n",
    ")\n",
    "\n",
    "\n",
    "Draw(export=True).add_to(m)\n",
    "\n",
    "m"
   ]
  },
  {
   "cell_type": "code",
   "execution_count": 3,
   "metadata": {},
   "outputs": [
    {
     "data": {
      "text/html": [
       "<div>\n",
       "<style scoped>\n",
       "    .dataframe tbody tr th:only-of-type {\n",
       "        vertical-align: middle;\n",
       "    }\n",
       "\n",
       "    .dataframe tbody tr th {\n",
       "        vertical-align: top;\n",
       "    }\n",
       "\n",
       "    .dataframe thead th {\n",
       "        text-align: right;\n",
       "    }\n",
       "</style>\n",
       "<table border=\"1\" class=\"dataframe\">\n",
       "  <thead>\n",
       "    <tr style=\"text-align: right;\">\n",
       "      <th></th>\n",
       "      <th>geometry</th>\n",
       "    </tr>\n",
       "  </thead>\n",
       "  <tbody>\n",
       "    <tr>\n",
       "      <th>0</th>\n",
       "      <td>LINESTRING (-48.56005 -27.83926, -48.56037 -27...</td>\n",
       "    </tr>\n",
       "  </tbody>\n",
       "</table>\n",
       "</div>"
      ],
      "text/plain": [
       "                                            geometry\n",
       "0  LINESTRING (-48.56005 -27.83926, -48.56037 -27..."
      ]
     },
     "execution_count": 3,
     "metadata": {},
     "output_type": "execute_result"
    }
   ],
   "source": [
    "import geopandas\n",
    "\n",
    "\n",
    "gdf = geopandas.read_file(\"naufragados.geojson\")\n",
    "gdf"
   ]
  },
  {
   "cell_type": "code",
   "execution_count": 4,
   "metadata": {},
   "outputs": [
    {
     "data": {
      "image/svg+xml": [
       "<svg xmlns=\"http://www.w3.org/2000/svg\" xmlns:xlink=\"http://www.w3.org/1999/xlink\" width=\"100.0\" height=\"100.0\" viewBox=\"-48.57141428 -27.83969828 0.01180655999999658 0.00631355999999883\" preserveAspectRatio=\"xMinYMin meet\"><g transform=\"matrix(1,0,0,-1,0,-55.673083000000005)\"><polyline fill=\"none\" stroke=\"#66cc99\" stroke-width=\"0.0002361311999999316\" points=\"-48.560045,-27.839261 -48.560369,-27.838112 -48.561071,-27.83713 -48.560583,-27.836131 -48.560135,-27.835459 -48.560193,-27.834545 -48.56109,-27.834769 -48.562592,-27.834218 -48.564015,-27.833856 -48.565322,-27.833822 -48.567116,-27.833822 -48.567252,-27.834649 -48.567545,-27.835131 -48.568715,-27.835321 -48.569124,-27.835958 -48.570528,-27.836596 -48.570977,-27.835752\" opacity=\"0.8\" /></g></svg>"
      ],
      "text/plain": [
       "<shapely.geometry.linestring.LineString at 0x7f25340e1b20>"
      ]
     },
     "execution_count": 4,
     "metadata": {},
     "output_type": "execute_result"
    }
   ],
   "source": [
    "gdf[\"geometry\"].squeeze()"
   ]
  },
  {
   "cell_type": "code",
   "execution_count": 5,
   "metadata": {},
   "outputs": [
    {
     "data": {
      "text/html": [
       "<div style=\"width:100%;\"><div style=\"position:relative;width:100%;height:0;padding-bottom:60%;\"><iframe src=\"about:blank\" style=\"position:absolute;width:100%;height:100%;left:0;top:0;border:none !important;\" data-html=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 onload=\"this.contentDocument.open();this.contentDocument.write(atob(this.getAttribute('data-html')));this.contentDocument.close();\" allowfullscreen webkitallowfullscreen mozallowfullscreen></iframe></div></div>"
      ],
      "text/plain": [
       "<folium.folium.Map at 0x7f24fdcdf0d0>"
      ]
     },
     "execution_count": 5,
     "metadata": {},
     "output_type": "execute_result"
    }
   ],
   "source": [
    "m = folium.Map()\n",
    "\n",
    "folium.GeoJson(gdf).add_to(m)\n",
    "\n",
    "m.fit_bounds(m.get_bounds())\n",
    "\n",
    "m"
   ]
  }
 ],
 "metadata": {
  "kernelspec": {
   "display_name": "Python 3",
   "language": "python",
   "name": "python3"
  },
  "language_info": {
   "codemirror_mode": {
    "name": "ipython",
    "version": 3
   },
   "file_extension": ".py",
   "mimetype": "text/x-python",
   "name": "python",
   "nbconvert_exporter": "python",
   "pygments_lexer": "ipython3",
   "version": "3.8.2"
  }
 },
 "nbformat": 4,
 "nbformat_minor": 4
}
