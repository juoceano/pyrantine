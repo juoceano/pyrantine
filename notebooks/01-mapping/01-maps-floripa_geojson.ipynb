{
 "cells": [
  {
   "cell_type": "code",
   "execution_count": null,
   "metadata": {
    "slideshow": {
     "slide_type": "skip"
    }
   },
   "outputs": [],
   "source": [
    "from pathlib import Path\n",
    "\n",
    "import geopandas\n",
    "\n",
    "path = Path(\".\")\n",
    "\n",
    "gdf0 = geopandas.read_file(\n",
    "    path.joinpath(\"floripa_adim\", \"floripa_adim_level_09.geojson\")\n",
    ")\n",
    "\n",
    "gdf1 = geopandas.read_file(\n",
    "    path.joinpath(\"floripa_adim\", \"floripa_adim_level_10.geojson\")\n",
    ")"
   ]
  },
  {
   "cell_type": "code",
   "execution_count": null,
   "metadata": {
    "slideshow": {
     "slide_type": "skip"
    }
   },
   "outputs": [],
   "source": [
    "from shapely.ops import cascaded_union\n",
    "\n",
    "floripa = cascaded_union(gdf0[\"geometry\"].tolist() + gdf1[\"geometry\"].tolist())"
   ]
  },
  {
   "cell_type": "code",
   "execution_count": null,
   "metadata": {
    "slideshow": {
     "slide_type": "skip"
    }
   },
   "outputs": [],
   "source": [
    "import folium\n",
    "\n",
    "m = folium.Map()\n",
    "folium.GeoJson(floripa).add_to(m)\n",
    "m.fit_bounds(m.get_bounds())\n",
    "\n",
    "m"
   ]
  },
  {
   "cell_type": "code",
   "execution_count": null,
   "metadata": {},
   "outputs": [],
   "source": [
    "%matplotlib inline\n",
    "\n",
    "import cartopy.crs as ccrs\n",
    "import matplotlib.pyplot as plt\n",
    "\n",
    "floripaprojection = ccrs.PlateCarree()\n",
    "dx = dy = 0.1\n",
    "x0, y0, x1, y1 = floripa.envelope.boundary.bounds\n",
    "\n",
    "fig, ax = plt.subplots(figsize=(16, 16), subplot_kw={\"projection\": floripaprojection},)\n",
    "\n",
    "extent = [x0 - dx, x1 + dx, y0 - dy, y1 + dy]\n",
    "ax.set_extent(extent)\n",
    "\n",
    "ax.add_geometries(floripa, floripaprojection, facecolor=\"0.7\", edgecolor=\"k\")\n",
    "ax.set_axis_off()"
   ]
  }
 ],
 "metadata": {
  "_draft": {
   "nbviewer_url": "https://gist.github.com/65648394dc82c34df0b325e256a2a3f7"
  },
  "gist": {
   "data": {
    "description": "Floripa_ESRI_IMAGE",
    "public": true
   },
   "id": "65648394dc82c34df0b325e256a2a3f7"
  },
  "kernelspec": {
   "display_name": "Python 3",
   "language": "python",
   "name": "python3"
  },
  "language_info": {
   "codemirror_mode": {
    "name": "ipython",
    "version": 3
   },
   "file_extension": ".py",
   "mimetype": "text/x-python",
   "name": "python",
   "nbconvert_exporter": "python",
   "pygments_lexer": "ipython3",
   "version": "3.9.4"
  }
 },
 "nbformat": 4,
 "nbformat_minor": 2
}
