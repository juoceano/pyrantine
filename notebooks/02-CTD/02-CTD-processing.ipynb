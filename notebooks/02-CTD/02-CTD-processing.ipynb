{
 "cells": [
  {
   "cell_type": "code",
   "execution_count": 1,
   "metadata": {},
   "outputs": [],
   "source": [
    "from pathlib import Path\n",
    "\n",
    "\n",
    "path = Path(\"CTD-data\")\n",
    "fname = path.joinpath(\"CTD-spiked-unfiltered.cnv.bz2\")"
   ]
  },
  {
   "cell_type": "code",
   "execution_count": 2,
   "metadata": {},
   "outputs": [
    {
     "data": {
      "text/plain": [
       "PosixPath('CTD-data/CTD-spiked-unfiltered.cnv.bz2')"
      ]
     },
     "execution_count": 2,
     "metadata": {},
     "output_type": "execute_result"
    }
   ],
   "source": [
    "fname"
   ]
  },
  {
   "cell_type": "code",
   "execution_count": 3,
   "metadata": {},
   "outputs": [],
   "source": [
    "import ctd\n",
    "\n",
    "\n",
    "cast = ctd.from_cnv(fname)"
   ]
  },
  {
   "cell_type": "markdown",
   "metadata": {},
   "source": [
    "### É um dataframe do pandas,"
   ]
  },
  {
   "cell_type": "code",
   "execution_count": 4,
   "metadata": {},
   "outputs": [
    {
     "data": {
      "text/plain": [
       "pandas.core.frame.DataFrame"
      ]
     },
     "execution_count": 4,
     "metadata": {},
     "output_type": "execute_result"
    }
   ],
   "source": [
    "type(cast)"
   ]
  },
  {
   "cell_type": "code",
   "execution_count": 5,
   "metadata": {},
   "outputs": [
    {
     "data": {
      "text/plain": [
       "Index(['scan', 'timeS', 't090C', 't190C', 'c0S/m', 'c1S/m', 'sbeox0V', 'par',\n",
       "       'spar', 'ph', 'altM', 'v0', 'v1', 'v2', 'v3', 'v4', 'v5', 'v6', 'v7',\n",
       "       'latitude', 'longitude', 'pumps', 'pla', 'sbeox0PS', 'sbeox0Mm/Kg',\n",
       "       'dz/dtM', 'accM', 'flSP', 'xmiss', 'flag'],\n",
       "      dtype='object')"
      ]
     },
     "execution_count": 5,
     "metadata": {},
     "output_type": "execute_result"
    }
   ],
   "source": [
    "cast.columns"
   ]
  },
  {
   "cell_type": "code",
   "execution_count": 6,
   "metadata": {},
   "outputs": [
    {
     "data": {
      "text/html": [
       "<div>\n",
       "<style scoped>\n",
       "    .dataframe tbody tr th:only-of-type {\n",
       "        vertical-align: middle;\n",
       "    }\n",
       "\n",
       "    .dataframe tbody tr th {\n",
       "        vertical-align: top;\n",
       "    }\n",
       "\n",
       "    .dataframe thead th {\n",
       "        text-align: right;\n",
       "    }\n",
       "</style>\n",
       "<table border=\"1\" class=\"dataframe\">\n",
       "  <thead>\n",
       "    <tr style=\"text-align: right;\">\n",
       "      <th></th>\n",
       "      <th>scan</th>\n",
       "      <th>timeS</th>\n",
       "      <th>t090C</th>\n",
       "      <th>t190C</th>\n",
       "      <th>c0S/m</th>\n",
       "      <th>c1S/m</th>\n",
       "      <th>sbeox0V</th>\n",
       "      <th>par</th>\n",
       "      <th>spar</th>\n",
       "      <th>ph</th>\n",
       "      <th>...</th>\n",
       "      <th>longitude</th>\n",
       "      <th>pumps</th>\n",
       "      <th>pla</th>\n",
       "      <th>sbeox0PS</th>\n",
       "      <th>sbeox0Mm/Kg</th>\n",
       "      <th>dz/dtM</th>\n",
       "      <th>accM</th>\n",
       "      <th>flSP</th>\n",
       "      <th>xmiss</th>\n",
       "      <th>flag</th>\n",
       "    </tr>\n",
       "    <tr>\n",
       "      <th>Pressure [dbar]</th>\n",
       "      <th></th>\n",
       "      <th></th>\n",
       "      <th></th>\n",
       "      <th></th>\n",
       "      <th></th>\n",
       "      <th></th>\n",
       "      <th></th>\n",
       "      <th></th>\n",
       "      <th></th>\n",
       "      <th></th>\n",
       "      <th></th>\n",
       "      <th></th>\n",
       "      <th></th>\n",
       "      <th></th>\n",
       "      <th></th>\n",
       "      <th></th>\n",
       "      <th></th>\n",
       "      <th></th>\n",
       "      <th></th>\n",
       "      <th></th>\n",
       "      <th></th>\n",
       "    </tr>\n",
       "  </thead>\n",
       "  <tbody>\n",
       "    <tr>\n",
       "      <th>6.433</th>\n",
       "      <td>1.0</td>\n",
       "      <td>0.000</td>\n",
       "      <td>26.9647</td>\n",
       "      <td>26.9314</td>\n",
       "      <td>5.821803</td>\n",
       "      <td>5.800920</td>\n",
       "      <td>2.1099</td>\n",
       "      <td>1.000000e-12</td>\n",
       "      <td>0.0000</td>\n",
       "      <td>8.575</td>\n",
       "      <td>...</td>\n",
       "      <td>-37.22588</td>\n",
       "      <td>False</td>\n",
       "      <td>26.970</td>\n",
       "      <td>69.61016</td>\n",
       "      <td>137.397</td>\n",
       "      <td>0.000</td>\n",
       "      <td>0.00</td>\n",
       "      <td>0.16484</td>\n",
       "      <td>99.2996</td>\n",
       "      <td>False</td>\n",
       "    </tr>\n",
       "    <tr>\n",
       "      <th>6.448</th>\n",
       "      <td>2.0</td>\n",
       "      <td>0.042</td>\n",
       "      <td>26.9644</td>\n",
       "      <td>26.9307</td>\n",
       "      <td>5.821615</td>\n",
       "      <td>5.800819</td>\n",
       "      <td>2.1148</td>\n",
       "      <td>1.000000e-12</td>\n",
       "      <td>1.9601</td>\n",
       "      <td>8.580</td>\n",
       "      <td>...</td>\n",
       "      <td>-37.22588</td>\n",
       "      <td>False</td>\n",
       "      <td>26.969</td>\n",
       "      <td>69.82216</td>\n",
       "      <td>137.817</td>\n",
       "      <td>0.351</td>\n",
       "      <td>8.43</td>\n",
       "      <td>0.16484</td>\n",
       "      <td>99.3260</td>\n",
       "      <td>False</td>\n",
       "    </tr>\n",
       "    <tr>\n",
       "      <th>6.433</th>\n",
       "      <td>3.0</td>\n",
       "      <td>0.083</td>\n",
       "      <td>26.9642</td>\n",
       "      <td>26.9301</td>\n",
       "      <td>5.821421</td>\n",
       "      <td>5.800727</td>\n",
       "      <td>2.1209</td>\n",
       "      <td>1.000000e-12</td>\n",
       "      <td>0.0000</td>\n",
       "      <td>8.575</td>\n",
       "      <td>...</td>\n",
       "      <td>-37.22588</td>\n",
       "      <td>False</td>\n",
       "      <td>26.969</td>\n",
       "      <td>70.08688</td>\n",
       "      <td>138.341</td>\n",
       "      <td>-0.351</td>\n",
       "      <td>-16.87</td>\n",
       "      <td>0.16606</td>\n",
       "      <td>99.3260</td>\n",
       "      <td>False</td>\n",
       "    </tr>\n",
       "    <tr>\n",
       "      <th>6.448</th>\n",
       "      <td>4.0</td>\n",
       "      <td>0.125</td>\n",
       "      <td>26.9639</td>\n",
       "      <td>26.9296</td>\n",
       "      <td>5.821264</td>\n",
       "      <td>5.800727</td>\n",
       "      <td>2.1270</td>\n",
       "      <td>1.000000e-12</td>\n",
       "      <td>0.0000</td>\n",
       "      <td>8.575</td>\n",
       "      <td>...</td>\n",
       "      <td>-37.22588</td>\n",
       "      <td>False</td>\n",
       "      <td>26.969</td>\n",
       "      <td>70.35184</td>\n",
       "      <td>138.865</td>\n",
       "      <td>0.351</td>\n",
       "      <td>16.86</td>\n",
       "      <td>0.16606</td>\n",
       "      <td>99.3260</td>\n",
       "      <td>False</td>\n",
       "    </tr>\n",
       "    <tr>\n",
       "      <th>6.433</th>\n",
       "      <td>5.0</td>\n",
       "      <td>0.167</td>\n",
       "      <td>26.9640</td>\n",
       "      <td>26.9291</td>\n",
       "      <td>5.821219</td>\n",
       "      <td>5.800634</td>\n",
       "      <td>2.1331</td>\n",
       "      <td>1.000000e-12</td>\n",
       "      <td>0.0000</td>\n",
       "      <td>8.575</td>\n",
       "      <td>...</td>\n",
       "      <td>-37.22588</td>\n",
       "      <td>False</td>\n",
       "      <td>26.969</td>\n",
       "      <td>70.61657</td>\n",
       "      <td>139.388</td>\n",
       "      <td>-0.351</td>\n",
       "      <td>-16.86</td>\n",
       "      <td>0.16606</td>\n",
       "      <td>99.3525</td>\n",
       "      <td>False</td>\n",
       "    </tr>\n",
       "  </tbody>\n",
       "</table>\n",
       "<p>5 rows × 30 columns</p>\n",
       "</div>"
      ],
      "text/plain": [
       "                 scan  timeS    t090C    t190C     c0S/m     c1S/m  sbeox0V  \\\n",
       "Pressure [dbar]                                                               \n",
       "6.433             1.0  0.000  26.9647  26.9314  5.821803  5.800920   2.1099   \n",
       "6.448             2.0  0.042  26.9644  26.9307  5.821615  5.800819   2.1148   \n",
       "6.433             3.0  0.083  26.9642  26.9301  5.821421  5.800727   2.1209   \n",
       "6.448             4.0  0.125  26.9639  26.9296  5.821264  5.800727   2.1270   \n",
       "6.433             5.0  0.167  26.9640  26.9291  5.821219  5.800634   2.1331   \n",
       "\n",
       "                          par    spar     ph  ...  longitude  pumps     pla  \\\n",
       "Pressure [dbar]                               ...                             \n",
       "6.433            1.000000e-12  0.0000  8.575  ...  -37.22588  False  26.970   \n",
       "6.448            1.000000e-12  1.9601  8.580  ...  -37.22588  False  26.969   \n",
       "6.433            1.000000e-12  0.0000  8.575  ...  -37.22588  False  26.969   \n",
       "6.448            1.000000e-12  0.0000  8.575  ...  -37.22588  False  26.969   \n",
       "6.433            1.000000e-12  0.0000  8.575  ...  -37.22588  False  26.969   \n",
       "\n",
       "                 sbeox0PS  sbeox0Mm/Kg  dz/dtM   accM     flSP    xmiss   flag  \n",
       "Pressure [dbar]                                                                 \n",
       "6.433            69.61016      137.397   0.000   0.00  0.16484  99.2996  False  \n",
       "6.448            69.82216      137.817   0.351   8.43  0.16484  99.3260  False  \n",
       "6.433            70.08688      138.341  -0.351 -16.87  0.16606  99.3260  False  \n",
       "6.448            70.35184      138.865   0.351  16.86  0.16606  99.3260  False  \n",
       "6.433            70.61657      139.388  -0.351 -16.86  0.16606  99.3525  False  \n",
       "\n",
       "[5 rows x 30 columns]"
      ]
     },
     "execution_count": 6,
     "metadata": {},
     "output_type": "execute_result"
    }
   ],
   "source": [
    "down, up = cast.split()\n",
    "\n",
    "down.head()"
   ]
  },
  {
   "cell_type": "code",
   "execution_count": 7,
   "metadata": {},
   "outputs": [
    {
     "data": {
      "text/plain": [
       "<matplotlib.axes._subplots.AxesSubplot at 0x7f7f59ec6d90>"
      ]
     },
     "execution_count": 7,
     "metadata": {},
     "output_type": "execute_result"
    },
    {
     "data": {
      "image/png": "[encoded data removed]",
      "text/plain": [
       "<Figure size 432x288 with 1 Axes>"
      ]
     },
     "metadata": {
      "needs_background": "light"
     },
     "output_type": "display_data"
    }
   ],
   "source": [
    "down[\"t090C\"].plot()"
   ]
  },
  {
   "cell_type": "markdown",
   "metadata": {},
   "source": [
    "### com uns \"extras\" para pre-processamento e plotagem dos dados."
   ]
  },
  {
   "cell_type": "code",
   "execution_count": 8,
   "metadata": {},
   "outputs": [
    {
     "data": {
      "text/plain": [
       "<matplotlib.axes._subplots.AxesSubplot at 0x7f7f59dfc9d0>"
      ]
     },
     "execution_count": 8,
     "metadata": {},
     "output_type": "execute_result"
    },
    {
     "data": {
      "image/png": "[encoded data removed]",
      "text/plain": [
       "<Figure size 378x486 with 1 Axes>"
      ]
     },
     "metadata": {},
     "output_type": "display_data"
    }
   ],
   "source": [
    "%matplotlib inline\n",
    "\n",
    "from matplotlib import style\n",
    "\n",
    "style.use(\"seaborn-whitegrid\")\n",
    "\n",
    "\n",
    "down[\"t090C\"].plot_cast()\n",
    "down[\"c0S/m\"].plot_cast()"
   ]
  },
  {
   "cell_type": "markdown",
   "metadata": {},
   "source": [
    "### Como podemos melhorar os gráficos acima?"
   ]
  },
  {
   "cell_type": "code",
   "execution_count": 9,
   "metadata": {},
   "outputs": [
    {
     "data": {
      "image/png": "[encoded data removed]",
      "text/plain": [
       "<Figure size 378x486 with 2 Axes>"
      ]
     },
     "metadata": {},
     "output_type": "display_data"
    }
   ],
   "source": [
    "ax0 = down[\"t090C\"].plot_cast(label=\"Temperature (°C)\")\n",
    "\n",
    "ax1 = down[\"c0S/m\"].plot_cast(\n",
    "    ax=ax0, label=\"Conductivity (S/m)\", color=\"orange\", secondary_y=True,\n",
    ")\n",
    "\n",
    "\n",
    "lines = ax0.get_lines() + ax1.get_lines()\n",
    "leg = {line: line.get_label() for line in lines}\n",
    "ax0.legend(leg.keys(), leg.values())\n",
    "ax0.grid(False)\n",
    "ax1.grid(False)"
   ]
  },
  {
   "cell_type": "markdown",
   "metadata": {},
   "source": [
    "### Temos acesso aos metadados originais do arquivo CNV"
   ]
  },
  {
   "cell_type": "code",
   "execution_count": 10,
   "metadata": {},
   "outputs": [
    {
     "data": {
      "text/plain": [
       "dict_keys(['header', 'config', 'names', 'skiprows', 'time', 'lon', 'lat', 'name'])"
      ]
     },
     "execution_count": 10,
     "metadata": {},
     "output_type": "execute_result"
    }
   ],
   "source": [
    "metadata = cast._metadata\n",
    "\n",
    "metadata.keys()"
   ]
  },
  {
   "cell_type": "code",
   "execution_count": 11,
   "metadata": {},
   "outputs": [
    {
     "name": "stdout",
     "output_type": "stream",
     "text": [
      "* Sea-Bird SBE 9 Data File:\n",
      "* FileName = Z:\\CTD_1.hex\n",
      "* Software Version Seasave V 7.21h\n",
      "* Temperature SN = 2317\n",
      "* Conductivity SN = 4010\n",
      "* Number of Bytes Per Scan = 48\n",
      "* Number of Voltage Words = 5\n",
      "* Number of Scans Averaged by the Deck Unit = 1\n",
      "* Append System Time to Every Scan\n",
      "* System UpLoad Time = Apr 01 2011 07:26:31\n",
      "* NMEA Latitude = 17 58.71 S\n",
      "* NMEA Longitude = 037 13.52 W\n",
      "* NMEA UTC (Time) = Apr 01 2011  07:26:31\n",
      "* Store Lat/Lon Data = Append to Every Scan\n",
      "** Ship: RV Meteor\n",
      "** Station: 1\n",
      "** Operator: Ed\n",
      "* System UTC = Apr 01 2011 07:26:31\n",
      "*END*\n"
     ]
    }
   ],
   "source": [
    "print(metadata[\"header\"])"
   ]
  },
  {
   "cell_type": "markdown",
   "metadata": {},
   "source": [
    "## Passos para o pre-processamento:"
   ]
  },
  {
   "cell_type": "markdown",
   "metadata": {},
   "source": [
    "### O primeiro passo é filtrar o *jitter* de alta frequência no sensor de pressão com um filtro de passa baixa.\n",
    "\n",
    "Usaremos o método `.lp_filter()` para isso."
   ]
  },
  {
   "cell_type": "code",
   "execution_count": 12,
   "metadata": {},
   "outputs": [
    {
     "data": {
      "text/plain": [
       "<matplotlib.legend.Legend at 0x7f7f4e6faf10>"
      ]
     },
     "execution_count": 12,
     "metadata": {},
     "output_type": "execute_result"
    },
    {
     "data": {
      "image/png": "[encoded data removed]",
      "text/plain": [
       "<Figure size 432x288 with 1 Axes>"
      ]
     },
     "metadata": {},
     "output_type": "display_data"
    }
   ],
   "source": [
    "import matplotlib.pyplot as plt\n",
    "\n",
    "fig, ax = plt.subplots()\n",
    "ax.plot(down.index, label=\"unfiltered\")\n",
    "ax.plot(down.lp_filter().index, label=\"filtered\")\n",
    "ax.axis([20870, 20930, 557.5, 559])\n",
    "fig.legend()"
   ]
  },
  {
   "cell_type": "markdown",
   "metadata": {},
   "source": [
    "Nos podemos ligar os próximos passos em \"cadeia\" e executá-los em um comando só:"
   ]
  },
  {
   "cell_type": "code",
   "execution_count": 13,
   "metadata": {},
   "outputs": [
    {
     "data": {
      "text/html": [
       "<div>\n",
       "<style scoped>\n",
       "    .dataframe tbody tr th:only-of-type {\n",
       "        vertical-align: middle;\n",
       "    }\n",
       "\n",
       "    .dataframe tbody tr th {\n",
       "        vertical-align: top;\n",
       "    }\n",
       "\n",
       "    .dataframe thead th {\n",
       "        text-align: right;\n",
       "    }\n",
       "</style>\n",
       "<table border=\"1\" class=\"dataframe\">\n",
       "  <thead>\n",
       "    <tr style=\"text-align: right;\">\n",
       "      <th></th>\n",
       "      <th>t090C</th>\n",
       "      <th>c0S/m</th>\n",
       "    </tr>\n",
       "  </thead>\n",
       "  <tbody>\n",
       "    <tr>\n",
       "      <th>7.5</th>\n",
       "      <td>26.974138</td>\n",
       "      <td>5.845094</td>\n",
       "    </tr>\n",
       "    <tr>\n",
       "      <th>8.5</th>\n",
       "      <td>26.974698</td>\n",
       "      <td>5.845201</td>\n",
       "    </tr>\n",
       "    <tr>\n",
       "      <th>9.5</th>\n",
       "      <td>26.975249</td>\n",
       "      <td>5.845306</td>\n",
       "    </tr>\n",
       "    <tr>\n",
       "      <th>10.5</th>\n",
       "      <td>26.975775</td>\n",
       "      <td>5.845408</td>\n",
       "    </tr>\n",
       "    <tr>\n",
       "      <th>11.5</th>\n",
       "      <td>26.976265</td>\n",
       "      <td>5.845505</td>\n",
       "    </tr>\n",
       "  </tbody>\n",
       "</table>\n",
       "</div>"
      ],
      "text/plain": [
       "          t090C     c0S/m\n",
       "7.5   26.974138  5.845094\n",
       "8.5   26.974698  5.845201\n",
       "9.5   26.975249  5.845306\n",
       "10.5  26.975775  5.845408\n",
       "11.5  26.976265  5.845505"
      ]
     },
     "execution_count": 13,
     "metadata": {},
     "output_type": "execute_result"
    }
   ],
   "source": [
    "down = down[[\"t090C\", \"c0S/m\"]]\n",
    "\n",
    "proc = (\n",
    "    down.remove_above_water()\n",
    "    .lp_filter()\n",
    "    .despike(n1=2, n2=20, block=100)\n",
    "    .press_check()\n",
    "    .interpolate()\n",
    "    .bindata(delta=1)\n",
    "    .smooth(window_len=21, window=\"hanning\")\n",
    ")\n",
    "\n",
    "proc.head()"
   ]
  },
  {
   "cell_type": "markdown",
   "metadata": {},
   "source": [
    "# EOS-80 vs TEOS-10"
   ]
  },
  {
   "cell_type": "markdown",
   "metadata": {},
   "source": [
    "## CTD derive\n",
    "\n",
    "### Agora que temos dados, filtrados, sem spikes, checados para inversão de pressão, interpolados, binados, e suavizados... Só falta computar as variáveis derivadas!"
   ]
  },
  {
   "cell_type": "code",
   "execution_count": 14,
   "metadata": {},
   "outputs": [
    {
     "data": {
      "text/plain": [
       "(-37.22533333333333, -17.9785)"
      ]
     },
     "execution_count": 14,
     "metadata": {},
     "output_type": "execute_result"
    }
   ],
   "source": [
    "lon, lat = metadata[\"lon\"], metadata[\"lat\"]\n",
    "\n",
    "lon, lat"
   ]
  },
  {
   "cell_type": "code",
   "execution_count": 15,
   "metadata": {},
   "outputs": [],
   "source": [
    "import gsw\n",
    "\n",
    "\n",
    "p = proc.index\n",
    "\n",
    "SP = gsw.SP_from_C(proc[\"c0S/m\"] * 10.0, proc[\"t090C\"], p)\n",
    "\n",
    "SA = gsw.SA_from_SP(SP, p, lon, lat)\n",
    "\n",
    "SR = gsw.SR_from_SP(SP)\n",
    "\n",
    "CT = gsw.CT_from_t(SA, proc[\"t090C\"].values, p)\n",
    "z = -gsw.z_from_p(p, lat)\n",
    "sigma0_CT = gsw.sigma0(SA, CT)\n",
    "\n",
    "proc = (\n",
    "    proc.assign(SP=SP)\n",
    "    .assign(SA=SA)\n",
    "    .assign(SR=SR)\n",
    "    .assign(CT=CT)\n",
    "    .assign(z=z)\n",
    "    .assign(sigma0_CT=sigma0_CT)\n",
    ")"
   ]
  },
  {
   "cell_type": "code",
   "execution_count": 16,
   "metadata": {},
   "outputs": [
    {
     "data": {
      "text/html": [
       "<div>\n",
       "<style scoped>\n",
       "    .dataframe tbody tr th:only-of-type {\n",
       "        vertical-align: middle;\n",
       "    }\n",
       "\n",
       "    .dataframe tbody tr th {\n",
       "        vertical-align: top;\n",
       "    }\n",
       "\n",
       "    .dataframe thead th {\n",
       "        text-align: right;\n",
       "    }\n",
       "</style>\n",
       "<table border=\"1\" class=\"dataframe\">\n",
       "  <thead>\n",
       "    <tr style=\"text-align: right;\">\n",
       "      <th></th>\n",
       "      <th>t090C</th>\n",
       "      <th>c0S/m</th>\n",
       "      <th>SP</th>\n",
       "      <th>SA</th>\n",
       "      <th>SR</th>\n",
       "      <th>CT</th>\n",
       "      <th>z</th>\n",
       "      <th>sigma0_CT</th>\n",
       "    </tr>\n",
       "  </thead>\n",
       "  <tbody>\n",
       "    <tr>\n",
       "      <th>7.5</th>\n",
       "      <td>26.974138</td>\n",
       "      <td>5.845094</td>\n",
       "      <td>37.374813</td>\n",
       "      <td>37.551223</td>\n",
       "      <td>37.551051</td>\n",
       "      <td>26.880936</td>\n",
       "      <td>7.454923</td>\n",
       "      <td>24.516828</td>\n",
       "    </tr>\n",
       "    <tr>\n",
       "      <th>8.5</th>\n",
       "      <td>26.974698</td>\n",
       "      <td>5.845201</td>\n",
       "      <td>37.374809</td>\n",
       "      <td>37.551219</td>\n",
       "      <td>37.551047</td>\n",
       "      <td>26.881265</td>\n",
       "      <td>8.448893</td>\n",
       "      <td>24.516719</td>\n",
       "    </tr>\n",
       "    <tr>\n",
       "      <th>9.5</th>\n",
       "      <td>26.975249</td>\n",
       "      <td>5.845306</td>\n",
       "      <td>37.374802</td>\n",
       "      <td>37.551213</td>\n",
       "      <td>37.551040</td>\n",
       "      <td>26.881585</td>\n",
       "      <td>9.442857</td>\n",
       "      <td>24.516612</td>\n",
       "    </tr>\n",
       "    <tr>\n",
       "      <th>10.5</th>\n",
       "      <td>26.975775</td>\n",
       "      <td>5.845408</td>\n",
       "      <td>37.374791</td>\n",
       "      <td>37.551203</td>\n",
       "      <td>37.551030</td>\n",
       "      <td>26.881880</td>\n",
       "      <td>10.436817</td>\n",
       "      <td>24.516509</td>\n",
       "    </tr>\n",
       "    <tr>\n",
       "      <th>11.5</th>\n",
       "      <td>26.976265</td>\n",
       "      <td>5.845505</td>\n",
       "      <td>37.374775</td>\n",
       "      <td>37.551187</td>\n",
       "      <td>37.551013</td>\n",
       "      <td>26.882139</td>\n",
       "      <td>11.430772</td>\n",
       "      <td>24.516413</td>\n",
       "    </tr>\n",
       "    <tr>\n",
       "      <th>...</th>\n",
       "      <td>...</td>\n",
       "      <td>...</td>\n",
       "      <td>...</td>\n",
       "      <td>...</td>\n",
       "      <td>...</td>\n",
       "      <td>...</td>\n",
       "      <td>...</td>\n",
       "      <td>...</td>\n",
       "    </tr>\n",
       "    <tr>\n",
       "      <th>1029.5</th>\n",
       "      <td>3.868543</td>\n",
       "      <td>3.238823</td>\n",
       "      <td>34.399356</td>\n",
       "      <td>34.565705</td>\n",
       "      <td>34.561564</td>\n",
       "      <td>3.792432</td>\n",
       "      <td>1020.799441</td>\n",
       "      <td>27.333365</td>\n",
       "    </tr>\n",
       "    <tr>\n",
       "      <th>1030.5</th>\n",
       "      <td>3.864256</td>\n",
       "      <td>3.238531</td>\n",
       "      <td>34.399867</td>\n",
       "      <td>34.566218</td>\n",
       "      <td>34.562077</td>\n",
       "      <td>3.788091</td>\n",
       "      <td>1021.788554</td>\n",
       "      <td>27.334209</td>\n",
       "    </tr>\n",
       "    <tr>\n",
       "      <th>1031.5</th>\n",
       "      <td>3.859281</td>\n",
       "      <td>3.238184</td>\n",
       "      <td>34.400449</td>\n",
       "      <td>34.566803</td>\n",
       "      <td>34.562662</td>\n",
       "      <td>3.783069</td>\n",
       "      <td>1022.777663</td>\n",
       "      <td>27.335177</td>\n",
       "    </tr>\n",
       "    <tr>\n",
       "      <th>1032.5</th>\n",
       "      <td>3.853762</td>\n",
       "      <td>3.237795</td>\n",
       "      <td>34.401090</td>\n",
       "      <td>34.567446</td>\n",
       "      <td>34.563306</td>\n",
       "      <td>3.777505</td>\n",
       "      <td>1023.766767</td>\n",
       "      <td>27.336246</td>\n",
       "    </tr>\n",
       "    <tr>\n",
       "      <th>1033.5</th>\n",
       "      <td>3.847892</td>\n",
       "      <td>3.237377</td>\n",
       "      <td>34.401768</td>\n",
       "      <td>34.568127</td>\n",
       "      <td>34.563987</td>\n",
       "      <td>3.771594</td>\n",
       "      <td>1024.755866</td>\n",
       "      <td>27.337379</td>\n",
       "    </tr>\n",
       "  </tbody>\n",
       "</table>\n",
       "<p>1027 rows × 8 columns</p>\n",
       "</div>"
      ],
      "text/plain": [
       "            t090C     c0S/m         SP         SA         SR         CT  \\\n",
       "7.5     26.974138  5.845094  37.374813  37.551223  37.551051  26.880936   \n",
       "8.5     26.974698  5.845201  37.374809  37.551219  37.551047  26.881265   \n",
       "9.5     26.975249  5.845306  37.374802  37.551213  37.551040  26.881585   \n",
       "10.5    26.975775  5.845408  37.374791  37.551203  37.551030  26.881880   \n",
       "11.5    26.976265  5.845505  37.374775  37.551187  37.551013  26.882139   \n",
       "...           ...       ...        ...        ...        ...        ...   \n",
       "1029.5   3.868543  3.238823  34.399356  34.565705  34.561564   3.792432   \n",
       "1030.5   3.864256  3.238531  34.399867  34.566218  34.562077   3.788091   \n",
       "1031.5   3.859281  3.238184  34.400449  34.566803  34.562662   3.783069   \n",
       "1032.5   3.853762  3.237795  34.401090  34.567446  34.563306   3.777505   \n",
       "1033.5   3.847892  3.237377  34.401768  34.568127  34.563987   3.771594   \n",
       "\n",
       "                  z  sigma0_CT  \n",
       "7.5        7.454923  24.516828  \n",
       "8.5        8.448893  24.516719  \n",
       "9.5        9.442857  24.516612  \n",
       "10.5      10.436817  24.516509  \n",
       "11.5      11.430772  24.516413  \n",
       "...             ...        ...  \n",
       "1029.5  1020.799441  27.333365  \n",
       "1030.5  1021.788554  27.334209  \n",
       "1031.5  1022.777663  27.335177  \n",
       "1032.5  1023.766767  27.336246  \n",
       "1033.5  1024.755866  27.337379  \n",
       "\n",
       "[1027 rows x 8 columns]"
      ]
     },
     "execution_count": 16,
     "metadata": {},
     "output_type": "execute_result"
    }
   ],
   "source": [
    "proc"
   ]
  },
  {
   "cell_type": "code",
   "execution_count": 17,
   "metadata": {},
   "outputs": [
    {
     "data": {
      "text/plain": [
       "Text(0.5, 1.0, 'Salinities')"
      ]
     },
     "execution_count": 17,
     "metadata": {},
     "output_type": "execute_result"
    },
    {
     "data": {
      "image/png": "[encoded data removed]",
      "text/plain": [
       "<Figure size 378x648 with 1 Axes>"
      ]
     },
     "metadata": {},
     "output_type": "display_data"
    }
   ],
   "source": [
    "labels = [\n",
    "    r\"Absolute Salinity (g kg$^{-1}$)\",\n",
    "    r\"Reference Salinity (g kg$^{-1}$)\",\n",
    "    \"Practical Salinity\",\n",
    "]\n",
    "\n",
    "\n",
    "ax = proc[[\"SA\", \"SR\", \"SP\"]].plot_cast(figsize=(5.25, 9), label=labels,)\n",
    "ax.set_ylabel(\"Pressure (dbar)\")\n",
    "ax.grid(True)\n",
    "ax.legend()\n",
    "ax.set_title(\"Salinities\")"
   ]
  },
  {
   "cell_type": "markdown",
   "metadata": {},
   "source": [
    "### Por puro exibicionismo vamos plotar as três variáveis principais em um único gráfico."
   ]
  },
  {
   "cell_type": "code",
   "execution_count": 18,
   "metadata": {},
   "outputs": [],
   "source": [
    "def make_patch_spines_invisible(ax):\n",
    "    ax.set_frame_on(True)\n",
    "    ax.patch.set_visible(False)\n",
    "    for sp in ax.spines.values():\n",
    "        sp.set_visible(False)"
   ]
  },
  {
   "cell_type": "code",
   "execution_count": 19,
   "metadata": {},
   "outputs": [
    {
     "data": {
      "image/png": "[encoded data removed]",
      "text/plain": [
       "<Figure size 360x648 with 3 Axes>"
      ]
     },
     "metadata": {},
     "output_type": "display_data"
    }
   ],
   "source": [
    "fig, ax0 = plt.subplots(figsize=(5, 9))\n",
    "\n",
    "colors = [\"#1f77b4\", \"#ff7f0e\", \"#2ca02c\"]\n",
    "\n",
    "ax0.invert_yaxis()\n",
    "ax1 = ax0.twiny()\n",
    "ax2 = ax0.twiny()\n",
    "\n",
    "(l0,) = ax0.plot(proc[\"CT\"], proc.index, color=colors[0], label=\"CT\")\n",
    "ax0.set_xlabel(\"Conservative Temperature (°C)\")\n",
    "\n",
    "(l1,) = ax1.plot(proc[\"SA\"], proc.index, color=colors[1], label=\"SA\")\n",
    "ax1.set_xlabel(\"Absolute Salinity (g kg$^{-1}$)\")\n",
    "\n",
    "(l2,) = ax2.plot(\n",
    "    proc[\"sigma0_CT\"], proc.index, color=colors[2], label=r\"$\\sigma_{0\\_CT}$\"\n",
    ")\n",
    "ax2.set_xlabel(r\"$\\sigma_{0\\_CT}$ (kg m$^{-3}$)\")\n",
    "\n",
    "make_patch_spines_invisible(ax2)\n",
    "ax2.spines[\"top\"].set_position((\"axes\", 1.1))\n",
    "ax2.spines[\"top\"].set_visible(True)\n",
    "\n",
    "ax0.xaxis.label.set_color(l0.get_color())\n",
    "ax1.xaxis.label.set_color(l1.get_color())\n",
    "ax2.xaxis.label.set_color(l2.get_color())\n",
    "\n",
    "ax0.tick_params(axis=\"x\", colors=l0.get_color())\n",
    "ax1.tick_params(axis=\"x\", colors=l1.get_color())\n",
    "ax2.tick_params(axis=\"x\", colors=l2.get_color())\n",
    "\n",
    "lines = ax0.get_lines() + ax1.get_lines() + ax2.get_lines()\n",
    "leg = {line: line.get_label() for line in lines}\n",
    "\n",
    "ax0.legend(leg.keys(), leg.values(), loc=8)\n",
    "\n",
    "ax0.grid(False)\n",
    "ax1.grid(False)\n",
    "ax2.grid(False)"
   ]
  }
 ],
 "metadata": {
  "kernelspec": {
   "display_name": "Python 3",
   "language": "python",
   "name": "python3"
  },
  "language_info": {
   "codemirror_mode": {
    "name": "ipython",
    "version": 3
   },
   "file_extension": ".py",
   "mimetype": "text/x-python",
   "name": "python",
   "nbconvert_exporter": "python",
   "pygments_lexer": "ipython3",
   "version": "3.8.2"
  }
 },
 "nbformat": 4,
 "nbformat_minor": 2
}
