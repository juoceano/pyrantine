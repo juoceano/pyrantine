{
 "cells": [
  {
   "cell_type": "code",
   "execution_count": null,
   "metadata": {},
   "outputs": [],
   "source": [
    "from pathlib import Path\n",
    "\n",
    "\n",
    "path = Path(\"CTD-data\")\n",
    "fname = path.joinpath(\"CTD-spiked-unfiltered.cnv.bz2\")"
   ]
  },
  {
   "cell_type": "code",
   "execution_count": null,
   "metadata": {},
   "outputs": [],
   "source": [
    "fname"
   ]
  },
  {
   "cell_type": "code",
   "execution_count": null,
   "metadata": {},
   "outputs": [],
   "source": [
    "import ctd\n",
    "\n",
    "\n",
    "cast = ctd.from_cnv(fname)"
   ]
  },
  {
   "cell_type": "markdown",
   "metadata": {},
   "source": [
    "### É um dataframe do pandas,"
   ]
  },
  {
   "cell_type": "code",
   "execution_count": null,
   "metadata": {},
   "outputs": [],
   "source": [
    "type(cast)"
   ]
  },
  {
   "cell_type": "code",
   "execution_count": null,
   "metadata": {},
   "outputs": [],
   "source": [
    "cast.columns"
   ]
  },
  {
   "cell_type": "code",
   "execution_count": null,
   "metadata": {},
   "outputs": [],
   "source": [
    "down, up = cast.split()\n",
    "\n",
    "down.head()"
   ]
  },
  {
   "cell_type": "code",
   "execution_count": null,
   "metadata": {},
   "outputs": [],
   "source": [
    "down[\"t090C\"].plot()"
   ]
  },
  {
   "cell_type": "markdown",
   "metadata": {},
   "source": [
    "### com uns \"extras\" para pre-processamento e plotagem dos dados."
   ]
  },
  {
   "cell_type": "code",
   "execution_count": null,
   "metadata": {},
   "outputs": [],
   "source": [
    "%matplotlib inline\n",
    "\n",
    "from matplotlib import style\n",
    "\n",
    "style.use(\"seaborn-whitegrid\")\n",
    "\n",
    "\n",
    "down[\"t090C\"].plot_cast()\n",
    "down[\"c0S/m\"].plot_cast()"
   ]
  },
  {
   "cell_type": "markdown",
   "metadata": {},
   "source": [
    "### Como podemos melhorar os gráficos acima?"
   ]
  },
  {
   "cell_type": "code",
   "execution_count": null,
   "metadata": {},
   "outputs": [],
   "source": [
    "ax0 = down[\"t090C\"].plot_cast(label=\"Temperature (°C)\")\n",
    "\n",
    "ax1 = down[\"c0S/m\"].plot_cast(\n",
    "    ax=ax0, label=\"Conductivity (S/m)\", color=\"orange\", secondary_y=True,\n",
    ")\n",
    "\n",
    "\n",
    "lines = ax0.get_lines() + ax1.get_lines()\n",
    "leg = {line: line.get_label() for line in lines}\n",
    "ax0.legend(leg.keys(), leg.values())\n",
    "ax0.grid(False)\n",
    "ax1.grid(False)"
   ]
  },
  {
   "cell_type": "markdown",
   "metadata": {},
   "source": [
    "### Temos acesso aos metadados originais do arquivo CNV"
   ]
  },
  {
   "cell_type": "code",
   "execution_count": null,
   "metadata": {},
   "outputs": [],
   "source": [
    "metadata = cast._metadata\n",
    "\n",
    "metadata.keys()"
   ]
  },
  {
   "cell_type": "code",
   "execution_count": null,
   "metadata": {},
   "outputs": [],
   "source": [
    "print(metadata[\"header\"])"
   ]
  },
  {
   "cell_type": "markdown",
   "metadata": {},
   "source": [
    "## Passos para o pre-processamento:"
   ]
  },
  {
   "cell_type": "markdown",
   "metadata": {},
   "source": [
    "### O primeiro passo é filtrar o *jitter* de alta frequência no sensor de pressão com um filtro de passa baixa.\n",
    "\n",
    "Usaremos o método `.lp_filter()` para isso."
   ]
  },
  {
   "cell_type": "code",
   "execution_count": null,
   "metadata": {},
   "outputs": [],
   "source": [
    "import matplotlib.pyplot as plt\n",
    "\n",
    "fig, ax = plt.subplots()\n",
    "ax.plot(down.index, label=\"unfiltered\")\n",
    "ax.plot(down.lp_filter().index, label=\"filtered\")\n",
    "ax.axis([20870, 20930, 557.5, 559])\n",
    "fig.legend()"
   ]
  },
  {
   "cell_type": "markdown",
   "metadata": {},
   "source": [
    "Nos podemos ligar os próximos passos em \"cadeia\" e executá-los em um comando só:"
   ]
  },
  {
   "cell_type": "code",
   "execution_count": null,
   "metadata": {},
   "outputs": [],
   "source": [
    "down = down[[\"t090C\", \"c0S/m\"]]\n",
    "\n",
    "proc = (\n",
    "    down.remove_above_water()\n",
    "    .lp_filter()\n",
    "    .despike(n1=2, n2=20, block=100)\n",
    "    .press_check()\n",
    "    .interpolate()\n",
    "    .bindata(delta=1)\n",
    "    .smooth(window_len=21, window=\"hanning\")\n",
    ")\n",
    "\n",
    "proc.head()"
   ]
  },
  {
   "cell_type": "markdown",
   "metadata": {},
   "source": [
    "# EOS-80 vs TEOS-10"
   ]
  },
  {
   "cell_type": "markdown",
   "metadata": {},
   "source": [
    "## CTD derive\n",
    "\n",
    "### Agora que temos dados, filtrados, sem spikes, checados para inversão de pressão, interpolados, binados, e suavizados... Só falta computar as variáveis derivadas!"
   ]
  },
  {
   "cell_type": "code",
   "execution_count": null,
   "metadata": {},
   "outputs": [],
   "source": [
    "lon, lat = metadata[\"lon\"], metadata[\"lat\"]\n",
    "\n",
    "lon, lat"
   ]
  },
  {
   "cell_type": "code",
   "execution_count": null,
   "metadata": {},
   "outputs": [],
   "source": [
    "import gsw\n",
    "\n",
    "\n",
    "p = proc.index\n",
    "\n",
    "SP = gsw.SP_from_C(proc[\"c0S/m\"].values * 10.0, proc[\"t090C\"].values, p)\n",
    "\n",
    "SA = gsw.SA_from_SP(SP, p, lon, lat)\n",
    "\n",
    "SR = gsw.SR_from_SP(SP)\n",
    "\n",
    "CT = gsw.CT_from_t(SA, proc[\"t090C\"].values, p)\n",
    "z = -gsw.z_from_p(p, lat)\n",
    "sigma0_CT = gsw.sigma0(SA, CT)\n",
    "\n",
    "proc = (\n",
    "    proc.assign(SP=SP)\n",
    "    .assign(SA=SA)\n",
    "    .assign(SR=SR)\n",
    "    .assign(CT=CT)\n",
    "    .assign(z=z)\n",
    "    .assign(sigma0_CT=sigma0_CT)\n",
    ")"
   ]
  },
  {
   "cell_type": "code",
   "execution_count": null,
   "metadata": {},
   "outputs": [],
   "source": [
    "proc"
   ]
  },
  {
   "cell_type": "code",
   "execution_count": null,
   "metadata": {},
   "outputs": [],
   "source": [
    "labels = [\n",
    "    r\"Absolute Salinity (g kg$^{-1}$)\",\n",
    "    r\"Reference Salinity (g kg$^{-1}$)\",\n",
    "    \"Practical Salinity\",\n",
    "]\n",
    "\n",
    "\n",
    "ax = proc[[\"SA\", \"SR\", \"SP\"]].plot_cast(figsize=(5.25, 9), label=labels,)\n",
    "ax.set_ylabel(\"Pressure (dbar)\")\n",
    "ax.grid(True)\n",
    "ax.legend()\n",
    "ax.set_title(\"Salinities\")"
   ]
  },
  {
   "cell_type": "markdown",
   "metadata": {},
   "source": [
    "### Por puro exibicionismo vamos plotar as três variáveis principais em um único gráfico."
   ]
  },
  {
   "cell_type": "code",
   "execution_count": null,
   "metadata": {},
   "outputs": [],
   "source": [
    "def make_patch_spines_invisible(ax):\n",
    "    ax.set_frame_on(True)\n",
    "    ax.patch.set_visible(False)\n",
    "    for sp in ax.spines.values():\n",
    "        sp.set_visible(False)"
   ]
  },
  {
   "cell_type": "code",
   "execution_count": null,
   "metadata": {},
   "outputs": [],
   "source": [
    "fig, ax0 = plt.subplots(figsize=(5, 9))\n",
    "\n",
    "colors = [\"#1f77b4\", \"#ff7f0e\", \"#2ca02c\"]\n",
    "\n",
    "ax0.invert_yaxis()\n",
    "ax1 = ax0.twiny()\n",
    "ax2 = ax0.twiny()\n",
    "\n",
    "(l0,) = ax0.plot(proc[\"CT\"], proc.index, color=colors[0], label=\"CT\")\n",
    "ax0.set_xlabel(\"Conservative Temperature (°C)\")\n",
    "\n",
    "(l1,) = ax1.plot(proc[\"SA\"], proc.index, color=colors[1], label=\"SA\")\n",
    "ax1.set_xlabel(\"Absolute Salinity (g kg$^{-1}$)\")\n",
    "\n",
    "(l2,) = ax2.plot(\n",
    "    proc[\"sigma0_CT\"], proc.index, color=colors[2], label=r\"$\\sigma_{0\\_CT}$\"\n",
    ")\n",
    "ax2.set_xlabel(r\"$\\sigma_{0\\_CT}$ (kg m$^{-3}$)\")\n",
    "\n",
    "make_patch_spines_invisible(ax2)\n",
    "ax2.spines[\"top\"].set_position((\"axes\", 1.1))\n",
    "ax2.spines[\"top\"].set_visible(True)\n",
    "\n",
    "ax0.xaxis.label.set_color(l0.get_color())\n",
    "ax1.xaxis.label.set_color(l1.get_color())\n",
    "ax2.xaxis.label.set_color(l2.get_color())\n",
    "\n",
    "ax0.tick_params(axis=\"x\", colors=l0.get_color())\n",
    "ax1.tick_params(axis=\"x\", colors=l1.get_color())\n",
    "ax2.tick_params(axis=\"x\", colors=l2.get_color())\n",
    "\n",
    "lines = ax0.get_lines() + ax1.get_lines() + ax2.get_lines()\n",
    "leg = {line: line.get_label() for line in lines}\n",
    "\n",
    "ax0.legend(leg.keys(), leg.values(), loc=8)\n",
    "\n",
    "ax0.grid(False)\n",
    "ax1.grid(False)\n",
    "ax2.grid(False)"
   ]
  }
 ],
 "metadata": {
  "kernelspec": {
   "display_name": "Python 3",
   "language": "python",
   "name": "python3"
  },
  "language_info": {
   "codemirror_mode": {
    "name": "ipython",
    "version": 3
   },
   "file_extension": ".py",
   "mimetype": "text/x-python",
   "name": "python",
   "nbconvert_exporter": "python",
   "pygments_lexer": "ipython3",
   "version": "3.9.4"
  }
 },
 "nbformat": 4,
 "nbformat_minor": 2
}
