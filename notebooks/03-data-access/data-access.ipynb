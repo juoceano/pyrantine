{
 "cells": [
  {
   "cell_type": "markdown",
   "metadata": {},
   "source": [
    "# Excel\n",
    "\n",
    "Lendo a planilha Excel em [https://github.com/ocefpaf/CursoPython_AlunasJu/issues/5](https://github.com/ocefpaf/CursoPython_AlunasJu/issues/5).\n",
    "\n",
    "Parece que tem dados depois de espaços em branco na mesma coluna. Abrindo a planilha parece que os dados de interesse terminam em ano 1732, amostra `AMCO564`, linha 79."
   ]
  },
  {
   "cell_type": "code",
   "execution_count": null,
   "metadata": {},
   "outputs": [],
   "source": [
    "import pandas as pd\n",
    "\n",
    "\n",
    "skiprows = 2\n",
    "\n",
    "df = pd.read_excel(\n",
    "    \"TOC.xlsx\",\n",
    "    skiprows=skiprows,\n",
    "    nrows=79 - skiprows - 1,  # header + extra/blanks rows.\n",
    ")\n",
    "\n",
    "df.tail()"
   ]
  },
  {
   "cell_type": "code",
   "execution_count": null,
   "metadata": {},
   "outputs": [],
   "source": [
    "%matplotlib inline\n",
    "import matplotlib.pyplot as plt\n",
    "\n",
    "fig, (ax0, ax1) = plt.subplots(ncols=2, figsize=(6, 7), sharey=True)\n",
    "\n",
    "ax0.plot(df[\"Rock Eval\"].values, df[\"Ano\"], \".\")\n",
    "ax1.plot(df[\"LECO\"].values, df[\"Ano\"], \".\")"
   ]
  },
  {
   "cell_type": "code",
   "execution_count": null,
   "metadata": {},
   "outputs": [],
   "source": [
    "import seaborn\n",
    "\n",
    "\n",
    "seaborn.set(style=\"darkgrid\")\n",
    "\n",
    "g = seaborn.jointplot(\"Rock Eval\", \"LECO\", data=df, kind=\"reg\", height=7,)"
   ]
  },
  {
   "cell_type": "markdown",
   "metadata": {},
   "source": [
    "# NetCDF"
   ]
  },
  {
   "cell_type": "code",
   "execution_count": null,
   "metadata": {},
   "outputs": [],
   "source": [
    "from netCDF4 import Dataset\n",
    "\n",
    "\n",
    "nc = Dataset(\"woa01an.nc\")\n",
    "nc"
   ]
  },
  {
   "cell_type": "code",
   "execution_count": null,
   "metadata": {},
   "outputs": [],
   "source": [
    "import numpy as np\n",
    "\n",
    "lon = nc[\"WOA01_LONX\"][:]\n",
    "lat = nc[\"WOA01_LATX\"][:]\n",
    "temp = nc[\"WOA01_MEAN_TEMP\"][:]\n",
    "sal = nc[\"WOA01_MEAN_PSAL\"][:]\n",
    "depth = nc[\"WOA01_DEPH\"][:]\n",
    "\n",
    "maskx = np.logical_and(lon < -5.5, lon > -45.5)\n",
    "masky = np.logical_and(lat < 0, lat > -45)\n",
    "\n",
    "temp = temp[masky, ...][:, maskx, :].mean(axis=0).mean(axis=0)\n",
    "sal = sal[masky, ...][:, maskx, :].mean(axis=0).mean(axis=0)"
   ]
  },
  {
   "cell_type": "code",
   "execution_count": null,
   "metadata": {},
   "outputs": [],
   "source": [
    "import matplotlib.pyplot as plt\n",
    "\n",
    "fig, (ax0, ax1) = plt.subplots(ncols=2, sharey=True, figsize=(12, 8))\n",
    "\n",
    "ax0.invert_yaxis()\n",
    "\n",
    "ax0.plot(temp, depth)\n",
    "ax0.set_xlabel(u\"Temperatura [\\u00B0C]\")\n",
    "ax0.set_ylabel(\"Profundidade [m]\")\n",
    "\n",
    "ax1.plot(sal, depth)\n",
    "ax1.set_xlabel(r\"Salinidade [g kg$^{-1}$]\")"
   ]
  },
  {
   "cell_type": "markdown",
   "metadata": {},
   "source": [
    "# OPeNDAP"
   ]
  },
  {
   "cell_type": "code",
   "execution_count": null,
   "metadata": {},
   "outputs": [],
   "source": [
    "from netCDF4 import Dataset\n",
    "\n",
    "\n",
    "url = \"http://goosbrasil.org:8080/pirata/B19s34w.nc\"\n",
    "nc = Dataset(url)\n",
    "\n",
    "temp = nc[\"temperature\"][:]\n",
    "times = nc[\"time\"]"
   ]
  },
  {
   "cell_type": "code",
   "execution_count": null,
   "metadata": {},
   "outputs": [],
   "source": [
    "temp[temp <= -9999] = np.NaN"
   ]
  },
  {
   "cell_type": "code",
   "execution_count": null,
   "metadata": {},
   "outputs": [],
   "source": [
    "import cftime\n",
    "import nc_time_axis\n",
    "\n",
    "\n",
    "t = cftime.num2date(times[:], times.units, calendar=times.calendar,)"
   ]
  },
  {
   "cell_type": "code",
   "execution_count": null,
   "metadata": {},
   "outputs": [],
   "source": [
    "fig, ax = plt.subplots()\n",
    "\n",
    "ax.plot(t, temp[:, 0], \".\")"
   ]
  },
  {
   "cell_type": "markdown",
   "metadata": {},
   "source": [
    "## Mesmo com xarray/iris CF - Climate Forecast"
   ]
  },
  {
   "cell_type": "code",
   "execution_count": null,
   "metadata": {},
   "outputs": [],
   "source": [
    "import xarray as xr\n",
    "\n",
    "ds = xr.open_dataset(url)\n",
    "ds"
   ]
  },
  {
   "cell_type": "code",
   "execution_count": null,
   "metadata": {},
   "outputs": [],
   "source": [
    "temp = ds[\"temperature\"]\n",
    "\n",
    "temp"
   ]
  },
  {
   "cell_type": "code",
   "execution_count": null,
   "metadata": {},
   "outputs": [],
   "source": [
    "temp.sel(depth_t=1.0, time=\"2008\").plot()"
   ]
  },
  {
   "cell_type": "markdown",
   "metadata": {},
   "source": [
    "# CDS\n",
    "\n",
    "https://cds.climate.copernicus.eu/api-how-to"
   ]
  },
  {
   "cell_type": "code",
   "execution_count": null,
   "metadata": {},
   "outputs": [],
   "source": [
    "import cdsapi\n",
    "import fsspec\n",
    "import xarray as xr\n",
    "\n",
    "try:\n",
    "    c = cdsapi.Client()\n",
    "\n",
    "    name = \"reanalysis-era5-pressure-levels\"\n",
    "    request = {\n",
    "        \"year\": \"2008\",\n",
    "        \"month\": \"01\",\n",
    "        \"day\": \"01\",\n",
    "        \"time\": \"12:00\",\n",
    "        \"variable\": \"temperature\",\n",
    "        \"pressure_level\": \"1000\",\n",
    "        \"product_type\": \"reanalysis\",\n",
    "        \"format\": \"netcdf\",\n",
    "    }\n",
    "\n",
    "    r = c.retrieve(name, request, None)\n",
    "    print(r.location)\n",
    "\n",
    "\n",
    "    with fsspec.open(r.location) as f:\n",
    "        ds = xr.open_dataset(f)\n",
    "\n",
    "    temp = ds[\"t\"].squeeze()\n",
    "    temp.plot()\n",
    "except Exception as e:\n",
    "    print(e)"
   ]
  },
  {
   "cell_type": "markdown",
   "metadata": {},
   "source": [
    "# ERDDAP"
   ]
  },
  {
   "cell_type": "code",
   "execution_count": null,
   "metadata": {},
   "outputs": [],
   "source": [
    "from erddapy import ERDDAP\n",
    "\n",
    "\n",
    "e = ERDDAP(server=\"https://data.ioos.us/gliders/erddap\", protocol=\"tabledap\",)"
   ]
  },
  {
   "cell_type": "code",
   "execution_count": null,
   "metadata": {},
   "outputs": [],
   "source": [
    "e.dataset_id = \"whoi_406-20160902T1700\"\n",
    "\n",
    "e.constraints = {\n",
    "    \"time>=\": \"2016-07-10T00:00:00Z\",\n",
    "    \"time<=\": \"2017-02-10T00:00:00Z\",\n",
    "    \"latitude>=\": 38.0,\n",
    "    \"latitude<=\": 41.0,\n",
    "    \"longitude>=\": -72.0,\n",
    "    \"longitude<=\": -69.0,\n",
    "}\n",
    "\n",
    "e.variables = [\n",
    "    \"depth\",\n",
    "    \"latitude\",\n",
    "    \"longitude\",\n",
    "    \"salinity\",\n",
    "    \"temperature\",\n",
    "    \"time\",\n",
    "]\n",
    "\n",
    "\n",
    "url = e.get_download_url()\n",
    "\n",
    "print(url)"
   ]
  },
  {
   "cell_type": "code",
   "execution_count": null,
   "metadata": {},
   "outputs": [],
   "source": [
    "import pandas as pd\n",
    "\n",
    "\n",
    "df = e.to_pandas(index_col=\"time (UTC)\", parse_dates=True,).dropna()\n",
    "\n",
    "df.head()"
   ]
  },
  {
   "cell_type": "code",
   "execution_count": null,
   "metadata": {},
   "outputs": [],
   "source": [
    "import matplotlib.dates as mdates\n",
    "import matplotlib.pyplot as plt\n",
    "\n",
    "\n",
    "fig, ax = plt.subplots(figsize=(17, 2))\n",
    "cs = ax.scatter(\n",
    "    df.index,\n",
    "    df[\"depth (m)\"],\n",
    "    s=15,\n",
    "    c=df[\"temperature (Celsius)\"],\n",
    "    marker=\"o\",\n",
    "    edgecolor=\"none\",\n",
    ")\n",
    "\n",
    "ax.invert_yaxis()\n",
    "ax.set_xlim(df.index[0], df.index[-1])\n",
    "xfmt = mdates.DateFormatter(\"%H:%Mh\\n%d-%b\")\n",
    "ax.xaxis.set_major_formatter(xfmt)\n",
    "\n",
    "cbar = fig.colorbar(cs, orientation=\"vertical\", extend=\"both\")\n",
    "cbar.ax.set_ylabel(\"Temperature ($^\\circ$C)\")\n",
    "ax.set_ylabel(\"Depth (m)\")"
   ]
  },
  {
   "cell_type": "markdown",
   "metadata": {},
   "source": [
    "One server to rule them all!"
   ]
  },
  {
   "cell_type": "code",
   "execution_count": null,
   "metadata": {},
   "outputs": [],
   "source": [
    "e.get_download_url(response=\"opendap\")"
   ]
  },
  {
   "cell_type": "code",
   "execution_count": null,
   "metadata": {},
   "outputs": [],
   "source": [
    "e.get_download_url(response=\"mat\")"
   ]
  },
  {
   "cell_type": "code",
   "execution_count": null,
   "metadata": {},
   "outputs": [],
   "source": [
    "e.get_download_url(response=\"csv\")"
   ]
  },
  {
   "cell_type": "code",
   "execution_count": null,
   "metadata": {},
   "outputs": [],
   "source": [
    "e.get_download_url(response=\"json\")"
   ]
  },
  {
   "cell_type": "code",
   "execution_count": null,
   "metadata": {},
   "outputs": [],
   "source": [
    "e.get_download_url(response=\"ncCF\")"
   ]
  },
  {
   "cell_type": "code",
   "execution_count": null,
   "metadata": {},
   "outputs": [],
   "source": [
    "e.get_download_url(response=\"ncCFHeader\")"
   ]
  },
  {
   "cell_type": "markdown",
   "metadata": {},
   "source": [
    "# Data Access Gallery\n",
    "\n",
    "https://ioos.github.io/notebooks_demos/code_gallery/"
   ]
  },
  {
   "cell_type": "markdown",
   "metadata": {},
   "source": [
    "Exercício: Encontre um set de dados em\n",
    "\n",
    "https://coastwatch.pfeg.noaa.gov/erddap/info/index.html\n",
    "\n",
    "e, usando o `erddapy` faça um gráfico com o dado escolhido."
   ]
  }
 ],
 "metadata": {
  "kernelspec": {
   "display_name": "Python 3",
   "language": "python",
   "name": "python3"
  },
  "language_info": {
   "codemirror_mode": {
    "name": "ipython",
    "version": 3
   },
   "file_extension": ".py",
   "mimetype": "text/x-python",
   "name": "python",
   "nbconvert_exporter": "python",
   "pygments_lexer": "ipython3",
   "version": "3.9.4"
  }
 },
 "nbformat": 4,
 "nbformat_minor": 2
}
