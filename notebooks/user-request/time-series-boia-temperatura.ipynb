{
 "cells": [
  {
   "cell_type": "markdown",
   "metadata": {},
   "source": [
    "# Explorando dados das Boias Piratas\n",
    "\n",
    "\n",
    "http://www.goosbrasil.org/pirata/dados"
   ]
  },
  {
   "cell_type": "code",
   "execution_count": null,
   "metadata": {},
   "outputs": [],
   "source": [
    "import pandas as pd\n",
    "\n",
    "\n",
    "url = \"https://raw.githubusercontent.com/ocefpaf/2018-Jun-SWC-Floripa/master/data/dados_pirata.csv\"\n",
    "\n",
    "df = pd.read_csv(\n",
    "    url,\n",
    "    index_col=\"datahora\",\n",
    "    parse_dates=True,\n",
    "    usecols=range(1, 15),\n",
    ")\n",
    "\n",
    "df.head()"
   ]
  },
  {
   "cell_type": "markdown",
   "metadata": {},
   "source": [
    "## Exercício: check a documentação do pandas, procure por *na_values*. O que isso faz? Como podemos usar aqui?"
   ]
  },
  {
   "cell_type": "code",
   "execution_count": null,
   "metadata": {},
   "outputs": [],
   "source": [
    "df = pd.read_csv(\n",
    "    url,\n",
    "    index_col=\"datahora\",\n",
    "    parse_dates=True,\n",
    "    usecols=range(1, 15),\n",
    "    na_values=-99999,\n",
    ")\n",
    "\n",
    "df.head()"
   ]
  },
  {
   "cell_type": "markdown",
   "metadata": {},
   "source": [
    "Truque para remover o *t_* e ordenar as colunas por profundidade."
   ]
  },
  {
   "cell_type": "code",
   "execution_count": null,
   "metadata": {},
   "outputs": [],
   "source": [
    "df.columns = [\n",
    "    f\"{col.split('_')[1]:0>3}\"\n",
    "    for col in df.columns\n",
    "]\n",
    "\n",
    "df.sort_index(axis=1, inplace=True)\n",
    "df.head()"
   ]
  },
  {
   "cell_type": "code",
   "execution_count": null,
   "metadata": {},
   "outputs": [],
   "source": [
    "%matplotlib inline\n",
    "import matplotlib.pyplot as plt\n",
    "\n",
    "\n",
    "fig, ax = plt.subplots(figsize=(13, 5.25))\n",
    "df.plot(ax=ax);"
   ]
  },
  {
   "cell_type": "markdown",
   "metadata": {},
   "source": [
    "## Exercício: existe um \"gap\" de dados faltando bem grande entre 2014-2016, cheque a documentação do método *.dropna()* e veja como podemos utilizá-lo aqui para \"limpar\" os dados um pouco."
   ]
  },
  {
   "cell_type": "code",
   "execution_count": null,
   "metadata": {},
   "outputs": [],
   "source": [
    "df.dropna(axis=1, how=\"all\", inplace=True)\n",
    "\n",
    "df.head()"
   ]
  },
  {
   "cell_type": "code",
   "execution_count": null,
   "metadata": {},
   "outputs": [],
   "source": [
    "desc = df.describe()\n",
    "\n",
    "desc"
   ]
  },
  {
   "cell_type": "markdown",
   "metadata": {},
   "source": [
    "## Exercício: usando o dataframe *desc* calcule a variância dos dados em cada profundidade."
   ]
  },
  {
   "cell_type": "code",
   "execution_count": null,
   "metadata": {},
   "outputs": [],
   "source": [
    "desc.loc[\"std\"] ** 2"
   ]
  },
  {
   "cell_type": "markdown",
   "metadata": {},
   "source": [
    "O que está acontecendo em 180 m?"
   ]
  },
  {
   "cell_type": "code",
   "execution_count": null,
   "metadata": {},
   "outputs": [],
   "source": [
    "grouped = df.groupby(pd.Grouper(freq=\"Y\"))\n",
    "\n",
    "year = grouped.mean()\n",
    "year = year.T\n",
    "year"
   ]
  },
  {
   "cell_type": "code",
   "execution_count": null,
   "metadata": {},
   "outputs": [],
   "source": [
    "fig, ax = plt.subplots(figsize=(9, 9))\n",
    "\n",
    "ax.plot(year.values, year.index, \"o-\")\n",
    "ax.invert_yaxis();"
   ]
  },
  {
   "cell_type": "markdown",
   "metadata": {},
   "source": [
    "## Exercício:\n",
    "\n",
    "- repita o `groupby` mas use meses ao invés de anos;\n",
    "- plot as series temporais das médias dos meses."
   ]
  },
  {
   "cell_type": "code",
   "execution_count": null,
   "metadata": {},
   "outputs": [],
   "source": [
    "grouped = df.groupby(pd.Grouper(freq=\"M\"))\n",
    "\n",
    "monthly = grouped.mean()"
   ]
  },
  {
   "cell_type": "code",
   "execution_count": null,
   "metadata": {},
   "outputs": [],
   "source": [
    "fig, ax = plt.subplots(figsize=(9, 9))\n",
    "\n",
    "ax.plot(monthly.T.values, monthly.T.index, \"o-\")\n",
    "ax.invert_yaxis();"
   ]
  },
  {
   "cell_type": "code",
   "execution_count": null,
   "metadata": {},
   "outputs": [],
   "source": [
    "monthly.plot();"
   ]
  },
  {
   "cell_type": "markdown",
   "metadata": {},
   "source": [
    "Uma forma de comparar as séries temporais com variâncias diferentes é normalizar pelo z-score:\n",
    "\n",
    "$$ z = \\frac{x - \\mu}{\\sigma} $$"
   ]
  },
  {
   "cell_type": "code",
   "execution_count": null,
   "metadata": {},
   "outputs": [],
   "source": [
    "zscore = (monthly - monthly.mean(axis=0)) / monthly.std()\n",
    "\n",
    "zscore.head()"
   ]
  },
  {
   "cell_type": "code",
   "execution_count": null,
   "metadata": {},
   "outputs": [],
   "source": [
    "import hvplot.pandas\n",
    "\n",
    "\n",
    "zscore.hvplot()"
   ]
  },
  {
   "cell_type": "markdown",
   "metadata": {},
   "source": [
    "# Decompor o sinal\n",
    "\n",
    "$$ y = trend + seasonal + residual $$"
   ]
  },
  {
   "cell_type": "code",
   "execution_count": null,
   "metadata": {},
   "outputs": [],
   "source": [
    "signal = df[\"001\"].copy()\n",
    "\n",
    "mean = signal.mean()\n",
    "mask = signal.isnull()"
   ]
  },
  {
   "cell_type": "markdown",
   "metadata": {},
   "source": [
    "## Tendência"
   ]
  },
  {
   "cell_type": "code",
   "execution_count": null,
   "metadata": {},
   "outputs": [],
   "source": [
    "import numpy as np\n",
    "from scipy.signal import detrend\n",
    "\n",
    "\n",
    "s = (signal-mean).fillna(0)\n",
    "detrended_signal = detrend(s)"
   ]
  },
  {
   "cell_type": "code",
   "execution_count": null,
   "metadata": {},
   "outputs": [],
   "source": [
    "detrended_signal[mask] = np.NaN\n",
    "detrended_signal = pd.Series(detrended_signal, index=signal.index)\n",
    "\n",
    "trend =  signal - detrended_signal"
   ]
  },
  {
   "cell_type": "code",
   "execution_count": null,
   "metadata": {},
   "outputs": [],
   "source": [
    "fig, (ax0, ax1) = plt.subplots(nrows=2, sharex=True)\n",
    "\n",
    "signal.plot(ax=ax0, label=\"signal\")\n",
    "ax0.plot(signal.index, trend, label=\"trend\")\n",
    "\n",
    "detrended_signal.plot(ax=ax1, label=\"detrend\");"
   ]
  },
  {
   "cell_type": "markdown",
   "metadata": {},
   "source": [
    "Quais anos tem dados faltando?"
   ]
  },
  {
   "cell_type": "code",
   "execution_count": null,
   "metadata": {},
   "outputs": [],
   "source": [
    "set(detrended_signal[detrended_signal.isnull()].index.year)"
   ]
  },
  {
   "cell_type": "markdown",
   "metadata": {},
   "source": [
    "Antes de interpolar um pouco disso vamos olhar as \"estatisticas\" dos dados para não \"inventar muito.\""
   ]
  },
  {
   "cell_type": "code",
   "execution_count": null,
   "metadata": {},
   "outputs": [],
   "source": [
    "detrended_signal.describe()"
   ]
  },
  {
   "cell_type": "code",
   "execution_count": null,
   "metadata": {},
   "outputs": [],
   "source": [
    "interped_signal = detrended_signal.interpolate(method=\"time\")\n",
    "\n",
    "interped_signal.plot(marker=\".\")\n",
    "set(interped_signal[interped_signal.isnull()].index.year)"
   ]
  },
  {
   "cell_type": "code",
   "execution_count": null,
   "metadata": {},
   "outputs": [],
   "source": [
    "interped_signal.describe()"
   ]
  },
  {
   "cell_type": "markdown",
   "metadata": {},
   "source": [
    "Exercício: esse tipo de interolação é aceitável? Olhe a documentação do `.interpolate` e procure uma opção que nos ajude a melhorar isso!"
   ]
  },
  {
   "cell_type": "code",
   "execution_count": null,
   "metadata": {},
   "outputs": [],
   "source": [
    "interped_signal = detrended_signal.interpolate(\n",
    "    method=\"time\",\n",
    "    limit=1,\n",
    ")\n",
    "\n",
    "\n",
    "interped_signal.plot(marker=\".\")\n",
    "interped_signal.describe()"
   ]
  },
  {
   "cell_type": "code",
   "execution_count": null,
   "metadata": {},
   "outputs": [],
   "source": [
    "set(interped_signal[interped_signal.isnull()].index.year)"
   ]
  },
  {
   "cell_type": "code",
   "execution_count": null,
   "metadata": {},
   "outputs": [],
   "source": [
    "interped_signal_cutted = interped_signal.loc[\"2005\":\"2010-12\"]"
   ]
  },
  {
   "cell_type": "markdown",
   "metadata": {},
   "source": [
    "## Sazonalidade + ruído\n",
    "\n",
    "$$ a\\cos{(2\\pi x + b)} $$"
   ]
  },
  {
   "cell_type": "code",
   "execution_count": null,
   "metadata": {},
   "outputs": [],
   "source": [
    "def cosine(x, a, b):\n",
    "    return a * np.cos(2 * np.pi * x + b)"
   ]
  },
  {
   "cell_type": "code",
   "execution_count": null,
   "metadata": {},
   "outputs": [],
   "source": [
    "t = interped_signal_cutted.index.values\n",
    "t = t - t[0]\n",
    "t = t / np.timedelta64(1, \"D\") / 365"
   ]
  },
  {
   "cell_type": "code",
   "execution_count": null,
   "metadata": {},
   "outputs": [],
   "source": [
    "from scipy.optimize import curve_fit\n",
    "from matplotlib.dates import date2num\n",
    "\n",
    "\n",
    "(a, b), pcov = curve_fit(\n",
    "    cosine,\n",
    "    t,\n",
    "    interped_signal_cutted,\n",
    ")"
   ]
  },
  {
   "cell_type": "code",
   "execution_count": null,
   "metadata": {},
   "outputs": [],
   "source": [
    "a, b"
   ]
  },
  {
   "cell_type": "code",
   "execution_count": null,
   "metadata": {},
   "outputs": [],
   "source": [
    "fitted = cosine(t, a, b)\n",
    "res = interped_signal_cutted - fitted\n",
    "\n",
    "fig, (ax0, ax1) = plt.subplots(\n",
    "    nrows=2,\n",
    "    sharex=True,\n",
    "    figsize=(9, 5.75)\n",
    ")\n",
    "\n",
    "interped_signal_cutted.plot(ax=ax0, label=\"signal\")\n",
    "ax0.plot(\n",
    "    interped_signal_cutted.index,\n",
    "    fitted,\n",
    "    label=\"ajuste\"\n",
    ")\n",
    "\n",
    "ax0.legend()\n",
    "\n",
    "res.plot(ax=ax1);"
   ]
  },
  {
   "cell_type": "markdown",
   "metadata": {},
   "source": [
    "# Exercício: escolha outra boia e reproduza as análises desse notebook.\n",
    "\n",
    "\n",
    "# Desafio 0: refaça o ajuste sem tirar a média/tendência e modificando a equação para achar *c*, ou seja, a tendência.\n",
    "\n",
    "$$ a\\cos{(2\\pi x + b)} + c $$\n",
    "\n",
    "# Desafio 1: parece existir um sinal mais longo no resíduo. Faça média vertical da camada de mistura (0-60), e refaça a análise com a série dessa média vertical. Isso deixara o sinal mais \"robusto\" (ou não ;-p)."
   ]
  }
 ],
 "metadata": {
  "gist": {
   "data": {
    "description": "notebooks/user-request/time-series-boia-temperatura.ipynb",
    "public": true
   },
   "id": ""
  },
  "kernelspec": {
   "display_name": "Python 3",
   "language": "python",
   "name": "python3"
  },
  "language_info": {
   "codemirror_mode": {
    "name": "ipython",
    "version": 3
   },
   "file_extension": ".py",
   "mimetype": "text/x-python",
   "name": "python",
   "nbconvert_exporter": "python",
   "pygments_lexer": "ipython3",
   "version": "3.9.4"
  }
 },
 "nbformat": 4,
 "nbformat_minor": 4
}
